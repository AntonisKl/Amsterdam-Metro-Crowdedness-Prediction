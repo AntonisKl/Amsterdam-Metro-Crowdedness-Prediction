{
 "cells": [
  {
   "cell_type": "code",
   "execution_count": 44,
   "outputs": [
    {
     "name": "stdout",
     "output_type": "stream",
     "text": [
      "The autoreload extension is already loaded. To reload it, use:\n",
      "  %reload_ext autoreload\n"
     ]
    }
   ],
   "source": [
    "%load_ext autoreload\n",
    "%autoreload 2"
   ],
   "metadata": {
    "collapsed": false,
    "pycharm": {
     "name": "#%%\n"
    }
   }
  },
  {
   "cell_type": "code",
   "id": "371f32f7-754e-45e9-9527-40326a33de3c",
   "metadata": {
    "pycharm": {
     "name": "#%%\n"
    }
   },
   "source": [
    "import os\n",
    "from datetime import date\n",
    "\n",
    "import pandas as pd\n",
    "import requests\n",
    "from workalendar.europe import Netherlands\n",
    "\n",
    "import data_utils\n",
    "\n",
    "%matplotlib inline\n",
    "from time import time\n",
    "\n",
    "import warnings"
   ],
   "execution_count": 45,
   "outputs": []
  },
  {
   "cell_type": "code",
   "execution_count": 46,
   "id": "c55fc6d9-d881-4f33-a8ec-f66d8867776a",
   "metadata": {},
   "outputs": [],
   "source": [
    "# stations to create predictions for\n",
    "stations = ['Centraal Station', 'Station Zuid', 'Station Bijlmer ArenA']\n",
    "\n",
    "#change every week\n",
    "week_no = 48"
   ]
  },
  {
   "cell_type": "code",
   "execution_count": 47,
   "id": "fb85c76e-6769-49a0-8455-d76af88ca1c9",
   "metadata": {},
   "outputs": [],
   "source": [
    "today = pd.to_datetime(\"today\")\n",
    "today_str = str(today.year) + \"-\" + str(today.month) + \"-\" + str(today.day)\n",
    "covid_url = 'https://covidtrackerapi.bsg.ox.ac.uk/api/v2/stringency/date-range/2020-09-01/' + today_str"
   ]
  },
  {
   "cell_type": "markdown",
   "id": "355a20c8-94c6-468b-9d43-3f502c1dc787",
   "metadata": {},
   "source": [
    "# Main"
   ]
  },
  {
   "cell_type": "markdown",
   "id": "89cd1595-1a70-4576-b244-e38c8f9e3e03",
   "metadata": {},
   "source": [
    "## 1. Get data"
   ]
  },
  {
   "cell_type": "code",
   "execution_count": 48,
   "id": "f17a5588-e681-413d-b4e4-a6b500f83900",
   "metadata": {},
   "outputs": [
    {
     "name": "stdout",
     "output_type": "stream",
     "text": [
      "Start loading raw data\n"
     ]
    }
   ],
   "source": [
    "print('Start loading raw data')"
   ]
  },
  {
   "cell_type": "code",
   "execution_count": 49,
   "id": "b726e7ef-c224-49ca-89f2-23b3ea01d830",
   "metadata": {},
   "outputs": [
    {
     "ename": "KeyboardInterrupt",
     "evalue": "",
     "output_type": "error",
     "traceback": [
      "\u001B[1;31m---------------------------------------------------------------------------\u001B[0m",
      "\u001B[1;31mKeyboardInterrupt\u001B[0m                         Traceback (most recent call last)",
      "\u001B[1;32m<ipython-input-49-c323ecd68af8>\u001B[0m in \u001B[0;36m<module>\u001B[1;34m\u001B[0m\n\u001B[0;32m      1\u001B[0m \u001B[0mt1\u001B[0m \u001B[1;33m=\u001B[0m \u001B[0mtime\u001B[0m\u001B[1;33m(\u001B[0m\u001B[1;33m)\u001B[0m\u001B[1;33m\u001B[0m\u001B[1;33m\u001B[0m\u001B[0m\n\u001B[0;32m      2\u001B[0m \u001B[1;33m\u001B[0m\u001B[0m\n\u001B[1;32m----> 3\u001B[1;33m \u001B[0mherkomst_2020\u001B[0m \u001B[1;33m=\u001B[0m \u001B[0mdata_utils\u001B[0m\u001B[1;33m.\u001B[0m\u001B[0mget_gvb_data\u001B[0m \u001B[1;33m(\u001B[0m\u001B[1;34m'Datalab_Reis_Herkomst_Uur_2020'\u001B[0m\u001B[1;33m)\u001B[0m\u001B[1;33m\u001B[0m\u001B[1;33m\u001B[0m\u001B[0m\n\u001B[0m\u001B[0;32m      4\u001B[0m \u001B[0mbestemming_2020\u001B[0m \u001B[1;33m=\u001B[0m \u001B[0mdata_utils\u001B[0m\u001B[1;33m.\u001B[0m\u001B[0mget_gvb_data\u001B[0m \u001B[1;33m(\u001B[0m\u001B[1;34m'Datalab_Reis_Bestemming_Uur_2020'\u001B[0m\u001B[1;33m)\u001B[0m\u001B[1;33m\u001B[0m\u001B[1;33m\u001B[0m\u001B[0m\n\u001B[0;32m      5\u001B[0m \u001B[1;33m\u001B[0m\u001B[0m\n",
      "\u001B[1;32m~\\Documents\\UvA\\DSP\\DSP-project\\model\\data_utils.py\u001B[0m in \u001B[0;36mget_gvb_data\u001B[1;34m(file_prefix)\u001B[0m\n\u001B[0;32m     37\u001B[0m             \u001B[1;32mcontinue\u001B[0m\u001B[1;33m\u001B[0m\u001B[1;33m\u001B[0m\u001B[0m\n\u001B[0;32m     38\u001B[0m \u001B[1;33m\u001B[0m\u001B[0m\n\u001B[1;32m---> 39\u001B[1;33m         \u001B[0mcurrent_df\u001B[0m \u001B[1;33m=\u001B[0m \u001B[0mpd\u001B[0m\u001B[1;33m.\u001B[0m\u001B[0mread_csv\u001B[0m\u001B[1;33m(\u001B[0m\u001B[0mfilepath\u001B[0m\u001B[1;33m,\u001B[0m \u001B[0msep\u001B[0m\u001B[1;33m=\u001B[0m\u001B[1;34m';'\u001B[0m\u001B[1;33m)\u001B[0m\u001B[1;33m\u001B[0m\u001B[1;33m\u001B[0m\u001B[0m\n\u001B[0m\u001B[0;32m     40\u001B[0m         \u001B[1;32mif\u001B[0m \u001B[0mgvb_df\u001B[0m \u001B[1;32mis\u001B[0m \u001B[1;32mNone\u001B[0m\u001B[1;33m:\u001B[0m\u001B[1;33m\u001B[0m\u001B[1;33m\u001B[0m\u001B[0m\n\u001B[0;32m     41\u001B[0m             \u001B[0mgvb_df\u001B[0m \u001B[1;33m=\u001B[0m \u001B[0mcurrent_df\u001B[0m\u001B[1;33m\u001B[0m\u001B[1;33m\u001B[0m\u001B[0m\n",
      "\u001B[1;32m~\\anaconda3\\lib\\site-packages\\pandas\\io\\parsers.py\u001B[0m in \u001B[0;36mread_csv\u001B[1;34m(filepath_or_buffer, sep, delimiter, header, names, index_col, usecols, squeeze, prefix, mangle_dupe_cols, dtype, engine, converters, true_values, false_values, skipinitialspace, skiprows, skipfooter, nrows, na_values, keep_default_na, na_filter, verbose, skip_blank_lines, parse_dates, infer_datetime_format, keep_date_col, date_parser, dayfirst, cache_dates, iterator, chunksize, compression, thousands, decimal, lineterminator, quotechar, quoting, doublequote, escapechar, comment, encoding, dialect, error_bad_lines, warn_bad_lines, delim_whitespace, low_memory, memory_map, float_precision, storage_options)\u001B[0m\n\u001B[0;32m    608\u001B[0m     \u001B[0mkwds\u001B[0m\u001B[1;33m.\u001B[0m\u001B[0mupdate\u001B[0m\u001B[1;33m(\u001B[0m\u001B[0mkwds_defaults\u001B[0m\u001B[1;33m)\u001B[0m\u001B[1;33m\u001B[0m\u001B[1;33m\u001B[0m\u001B[0m\n\u001B[0;32m    609\u001B[0m \u001B[1;33m\u001B[0m\u001B[0m\n\u001B[1;32m--> 610\u001B[1;33m     \u001B[1;32mreturn\u001B[0m \u001B[0m_read\u001B[0m\u001B[1;33m(\u001B[0m\u001B[0mfilepath_or_buffer\u001B[0m\u001B[1;33m,\u001B[0m \u001B[0mkwds\u001B[0m\u001B[1;33m)\u001B[0m\u001B[1;33m\u001B[0m\u001B[1;33m\u001B[0m\u001B[0m\n\u001B[0m\u001B[0;32m    611\u001B[0m \u001B[1;33m\u001B[0m\u001B[0m\n\u001B[0;32m    612\u001B[0m \u001B[1;33m\u001B[0m\u001B[0m\n",
      "\u001B[1;32m~\\anaconda3\\lib\\site-packages\\pandas\\io\\parsers.py\u001B[0m in \u001B[0;36m_read\u001B[1;34m(filepath_or_buffer, kwds)\u001B[0m\n\u001B[0;32m    466\u001B[0m \u001B[1;33m\u001B[0m\u001B[0m\n\u001B[0;32m    467\u001B[0m     \u001B[1;32mwith\u001B[0m \u001B[0mparser\u001B[0m\u001B[1;33m:\u001B[0m\u001B[1;33m\u001B[0m\u001B[1;33m\u001B[0m\u001B[0m\n\u001B[1;32m--> 468\u001B[1;33m         \u001B[1;32mreturn\u001B[0m \u001B[0mparser\u001B[0m\u001B[1;33m.\u001B[0m\u001B[0mread\u001B[0m\u001B[1;33m(\u001B[0m\u001B[0mnrows\u001B[0m\u001B[1;33m)\u001B[0m\u001B[1;33m\u001B[0m\u001B[1;33m\u001B[0m\u001B[0m\n\u001B[0m\u001B[0;32m    469\u001B[0m \u001B[1;33m\u001B[0m\u001B[0m\n\u001B[0;32m    470\u001B[0m \u001B[1;33m\u001B[0m\u001B[0m\n",
      "\u001B[1;31mKeyboardInterrupt\u001B[0m: "
     ]
    }
   ],
   "source": [
    "t1 = time()\n",
    "\n",
    "herkomst_2020 = data_utils.get_gvb_data ('Datalab_Reis_Herkomst_Uur_2020')\n",
    "bestemming_2020 = data_utils.get_gvb_data ('Datalab_Reis_Bestemming_Uur_2020')\n",
    "\n",
    "t2 = time()\n",
    "print('Completed in %s sec.' % (str(t2 - t1)))"
   ]
  },
  {
   "cell_type": "code",
   "execution_count": null,
   "id": "cea3eb85-26c0-4bd3-a766-b44355680d01",
   "metadata": {},
   "outputs": [],
   "source": [
    "t1 = time()\n",
    "\n",
    "herkomst_2021 = data_utils.get_gvb_data ('Datalab_Reis_Herkomst_Uur_2021')\n",
    "bestemming_2021 = data_utils.get_gvb_data ('Datalab_Reis_Bestemming_Uur_2021')\n",
    "\n",
    "t2 = time()\n",
    "print('Completed in %s sec.' % (str(t2 - t1)))"
   ]
  },
  {
   "cell_type": "code",
   "execution_count": null,
   "outputs": [],
   "source": [
    "t1 = time()\n",
    "\n",
    "bestemming_2021 = data_utils.get_gvb_data_json(bestemming_2021)\n",
    "\n",
    "t2 = time()\n",
    "print('Completed in %s sec.' % (str(t2 - t1)))"
   ],
   "metadata": {
    "collapsed": false,
    "pycharm": {
     "name": "#%%\n"
    }
   }
  },
  {
   "cell_type": "code",
   "execution_count": null,
   "id": "e04ec78a-b121-4566-b628-30a97d352027",
   "metadata": {},
   "outputs": [],
   "source": [
    "t1 = time()\n",
    "\n",
    "knmi_obs = data_utils.get_knmi_data('knmi/knmi-observations/2021/**/**/*')\n",
    "\n",
    "t2 = time()\n",
    "print('Completed in %s sec.' % (str(t2 - t1)))"
   ]
  },
  {
   "cell_type": "code",
   "execution_count": null,
   "id": "d5d7cb88-8398-41a3-bc2a-32ae7129794d",
   "metadata": {},
   "outputs": [],
   "source": [
    "t1 = time()\n",
    "\n",
    "knmi_preds = data_utils.get_knmi_data('knmi/knmi/**/**/**/*.json.gz')\n",
    "\n",
    "t2 = time()\n",
    "print('Completed in %s sec.' % (str(t2 - t1)))"
   ]
  },
  {
   "cell_type": "code",
   "execution_count": null,
   "outputs": [],
   "source": [
    "covid_measures_df = data_utils.get_covid_measures()"
   ],
   "metadata": {
    "collapsed": false,
    "pycharm": {
     "name": "#%%\n"
    }
   }
  },
  {
   "cell_type": "code",
   "execution_count": null,
   "outputs": [],
   "source": [
    "covid_cases_deaths_df  = data_utils.get_covid_cases_deaths()"
   ],
   "metadata": {
    "collapsed": false,
    "pycharm": {
     "name": "#%%\n"
    }
   }
  },
  {
   "cell_type": "code",
   "execution_count": null,
   "id": "0cb87654-b7a8-4154-8985-b06fc142c081",
   "metadata": {},
   "outputs": [],
   "source": [
    "covid_df_raw = pd.DataFrame(requests.get(url = covid_url).json()['data'])"
   ]
  },
  {
   "cell_type": "code",
   "execution_count": null,
   "id": "ff861a54-6dfe-4fb7-b145-b5f038bfda55",
   "metadata": {},
   "outputs": [],
   "source": [
    "holidays_data_raw = Netherlands().holidays(2019) + Netherlands().holidays(2020) + Netherlands().holidays(2021)"
   ]
  },
  {
   "cell_type": "code",
   "execution_count": null,
   "id": "1910e17f-4eb8-481c-b69f-e73676ffb16c",
   "metadata": {},
   "outputs": [],
   "source": [
    "vacations_df = data_utils.get_vacations()"
   ]
  },
  {
   "cell_type": "code",
   "execution_count": null,
   "id": "21c4b84b-2d20-4305-b54e-84257743014e",
   "metadata": {},
   "outputs": [],
   "source": [
    "events = data_utils.get_events()"
   ]
  },
  {
   "cell_type": "markdown",
   "id": "3127687a-cf5d-4a86-bf70-9a77565d40e3",
   "metadata": {},
   "source": [
    "### 2. Prepare data"
   ]
  },
  {
   "cell_type": "markdown",
   "id": "83b56f9f-0042-4b6a-b412-d9c0206d71a9",
   "metadata": {},
   "source": [
    "#### Pre-process data sources"
   ]
  },
  {
   "cell_type": "code",
   "execution_count": null,
   "id": "835e35c1-e1b7-472b-9c10-5cfcc85dc4f2",
   "metadata": {},
   "outputs": [],
   "source": [
    "herkomst = pd.concat([herkomst_2020, herkomst_2021])\n",
    "bestemming = pd.concat([bestemming_2020, bestemming_2021])"
   ]
  },
  {
   "cell_type": "code",
   "execution_count": null,
   "id": "b81c9bbf-884e-4ffb-8e99-93906290eb85",
   "metadata": {},
   "outputs": [],
   "source": [
    "# Cast 'AantalReizen' to int to sum up\n",
    "bestemming['AantalReizen'] = bestemming['AantalReizen'].astype(int)\n",
    "herkomst['AantalReizen'] = herkomst['AantalReizen'].astype(int)\n",
    "\n",
    "# Remove all duplicates\n",
    "bestemming.drop_duplicates(inplace=True)\n",
    "herkomst.drop_duplicates(inplace=True)\n",
    "\n",
    "# Group by station name because we are analysing per station\n",
    "bestemming_grouped = bestemming.groupby(['Datum', 'UurgroepOmschrijving (van aankomst)', 'AankomstHalteNaam'], as_index=False)['AantalReizen'].sum()\n",
    "herkomst_grouped = herkomst.groupby(['Datum', 'UurgroepOmschrijving (van vertrek)', 'VertrekHalteNaam'], as_index=False)['AantalReizen'].sum()"
   ]
  },
  {
   "cell_type": "code",
   "execution_count": null,
   "id": "8174eafa-f23b-46ad-a687-d7ca7ff55c44",
   "metadata": {},
   "outputs": [],
   "source": [
    "bestemming_herkomst = data_utils.merge_bestemming_herkomst(bestemming_grouped, herkomst_grouped)"
   ]
  },
  {
   "cell_type": "code",
   "execution_count": null,
   "id": "da1f5aa9-eadd-46e2-8cb1-52577b58ea48",
   "metadata": {},
   "outputs": [],
   "source": [
    "gvb_dfs = []\n",
    "\n",
    "for station in stations:\n",
    "    gvb_dfs.append(data_utils.preprocess_gvb_data_for_modelling(bestemming_herkomst, station))"
   ]
  },
  {
   "cell_type": "code",
   "execution_count": null,
   "id": "0c6a2d1f-a539-4f52-83a3-a68b49800218",
   "metadata": {},
   "outputs": [],
   "source": [
    "knmi_historical = data_utils.preprocess_knmi_data_hour(knmi_obs)"
   ]
  },
  {
   "cell_type": "code",
   "execution_count": null,
   "id": "3b60da48-3d80-433d-83b9-3bf0dcd1dc2a",
   "metadata": {},
   "outputs": [],
   "source": [
    "knmi_forecast = data_utils.preprocess_metpre_data(knmi_preds)"
   ]
  },
  {
   "cell_type": "code",
   "execution_count": null,
   "id": "a01b8a02-3695-4fe0-84a2-2ce74c370b5b",
   "metadata": {},
   "outputs": [],
   "source": [
    "covid_df = data_utils.preprocess_covid_data(covid_df_raw)"
   ]
  },
  {
   "cell_type": "code",
   "execution_count": null,
   "id": "57e643b4-5be9-4962-b62f-b9fe1d883c9a",
   "metadata": {},
   "outputs": [],
   "source": [
    "holiday_df = data_utils.preprocess_holiday_data(holidays_data_raw)"
   ]
  },
  {
   "cell_type": "markdown",
   "id": "d57b9801-7023-4b93-bdc9-f03ed0383209",
   "metadata": {},
   "source": [
    "#### Merge datasources"
   ]
  },
  {
   "cell_type": "code",
   "execution_count": null,
   "outputs": [],
   "source": [
    "gvb_dfs_merged = []\n",
    "\n",
    "for df in gvb_dfs:\n",
    "    gvb_dfs_merged.append(data_utils.merge_gvb_with_datasources(df, knmi_historical, covid_df, covid_measures_df, holiday_df, vacations_df, events, covid_cases_deaths_df))"
   ],
   "metadata": {
    "collapsed": false,
    "pycharm": {
     "name": "#%%\n"
    }
   }
  },
  {
   "cell_type": "markdown",
   "id": "4d7d1211-44c6-4402-9f74-cc72aa6780c2",
   "metadata": {},
   "source": [
    "### 3. Clean data"
   ]
  },
  {
   "cell_type": "markdown",
   "id": "f88e768f-9509-4ab1-be6a-d76168e936a9",
   "metadata": {},
   "source": [
    "#### Interpolate missing data"
   ]
  },
  {
   "cell_type": "code",
   "execution_count": null,
   "id": "7e084dfb-13cb-44ac-a3df-fb535640619f",
   "metadata": {},
   "outputs": [],
   "source": [
    "gvb_dfs_interpolated = []\n",
    "\n",
    "for df in gvb_dfs_merged:\n",
    "    gvb_dfs_interpolated.append(data_utils.interpolate_missing_values(df))"
   ]
  },
  {
   "cell_type": "code",
   "execution_count": null,
   "id": "5a74407b-f2c2-47fe-80e8-1cce42578096",
   "metadata": {},
   "outputs": [],
   "source": [
    "gvb_dfs_final = []\n",
    "\n",
    "for df in gvb_dfs_interpolated:\n",
    "\n",
    "    df['check-ins'] = df['check-ins'].astype(int)\n",
    "    df['check-outs'] = df['check-outs'].astype(int)\n",
    "    df[['check-ins_week_ago', 'check-outs_week_ago']] = df.apply(lambda x: data_utils.get_crowd_last_week(df, x), axis=1, result_type=\"expand\")\n",
    "\n",
    "    gvb_dfs_final.append(df)"
   ]
  },
  {
   "cell_type": "markdown",
   "id": "65eb849a-ec42-4294-9be1-0219214489b4",
   "metadata": {},
   "source": [
    "#### 4. Create model dataframes"
   ]
  },
  {
   "cell_type": "code",
   "execution_count": null,
   "outputs": [],
   "source": [
    "# Define features and targets. This is the same for all stations at the moment.\n",
    "features = ['year', 'month', 'weekday', 'hour', 'holiday', 'vacation', 'planned_event', 'temperature', 'wind_speed', 'precipitation_h','global_radiation', 'cases', 'deaths'] + list(covid_measures_df.columns.values)\n",
    "# features = ['year', 'month', 'weekday', 'hour', 'holiday', 'vacation', 'planned_event', 'temperature', 'wind_speed', 'precipitation_h','global_radiation', 'stringency', 'cases', 'deaths']\n",
    "\n",
    "targets = ['check-ins', 'check-outs']"
   ],
   "metadata": {
    "collapsed": false,
    "pycharm": {
     "name": "#%%\n"
    }
   }
  },
  {
   "cell_type": "code",
   "execution_count": null,
   "id": "41fb8175-9821-417f-ad97-80e4fb208ad7",
   "metadata": {},
   "outputs": [],
   "source": [
    "data_splits = []\n",
    "\n",
    "for df in gvb_dfs_final:\n",
    "    df = df[['datetime'] + features + targets]\n",
    "\n",
    "    train, validation, test = data_utils.get_train_val_test_split(df.dropna())\n",
    "    data_splits.append([train, validation, test])"
   ]
  },
  {
   "cell_type": "code",
   "execution_count": null,
   "id": "b1e98d94-c94e-4a01-9c71-53bebe681eae",
   "metadata": {},
   "outputs": [],
   "source": [
    "X_train_splits = []\n",
    "y_train_splits = []\n",
    "\n",
    "X_validation_splits = []\n",
    "y_validation_splits = []\n",
    "\n",
    "X_test_splits = []\n",
    "y_test_splits = []\n",
    "\n",
    "for split in data_splits:\n",
    "\n",
    "    X_train_splits.append(split[0][features])\n",
    "    y_train_splits.append(split[0][targets])\n",
    "\n",
    "    X_validation_splits.append(split[1][features])\n",
    "    y_validation_splits.append(split[1][targets])\n",
    "\n",
    "    X_test_splits.append(split[2][features])\n",
    "    y_test_splits.append(split[2][targets])"
   ]
  },
  {
   "cell_type": "code",
   "execution_count": null,
   "id": "76a69e4d-ac43-439a-8a5d-cbceb6f6c592",
   "metadata": {},
   "outputs": [],
   "source": [
    "# Dataframes to predict cdfheck-ins and check-outs of next week\n",
    "X_predict_dfs = []\n",
    "\n",
    "for df in gvb_dfs_final:\n",
    "    X_predict_dfs.append(data_utils.get_future_df(features, df, covid_df.tail(1)['stringency'][0], covid_measures_df, covid_cases_deaths_df, holiday_df, vacations_df, knmi_forecast, events))"
   ]
  },
  {
   "cell_type": "code",
   "execution_count": null,
   "outputs": [],
   "source": [
    "X_predict_dfs[0].dropna()"
   ],
   "metadata": {
    "collapsed": false,
    "pycharm": {
     "name": "#%%\n"
    }
   }
  },
  {
   "cell_type": "markdown",
   "id": "f6772335-e1de-49ff-97d7-91aa0b88e55d",
   "metadata": {},
   "source": [
    "### 5. Create model"
   ]
  },
  {
   "cell_type": "code",
   "execution_count": null,
   "id": "5ad550a4-3be4-4a35-ae76-0c8503936c29",
   "metadata": {},
   "outputs": [],
   "source": [
    "# basic_models = []\n",
    "#\n",
    "# for x in range(0, len(data_splits)):\n",
    "#     model_basic, r_squared_basic, mae_basic, rmse_basic = data_utils.train_random_forest_regressor(X_train_splits[x], y_train_splits[x],\n",
    "#                                                                                           X_validation_splits[x], y_validation_splits[x],\n",
    "#                                                                                           None)\n",
    "#     basic_models.append([model_basic, r_squared_basic, mae_basic, rmse_basic])"
   ]
  },
  {
   "cell_type": "code",
   "execution_count": null,
   "id": "1dffd19a-7d34-4289-a22b-36e4764559b8",
   "metadata": {},
   "outputs": [],
   "source": [
    "#### Tune (hyper-)parameters (not done because models currently do not improve with hyperparameter tuning)"
   ]
  },
  {
   "cell_type": "code",
   "execution_count": null,
   "id": "b09f27e1-da31-4c14-a527-2f61098953c8",
   "metadata": {},
   "outputs": [],
   "source": [
    "# Specify hyperparameters, these could be station-specific. For now, default hyperparameter settings are being used.\n",
    "centraal_station_hyperparameters = None\n",
    "station_zuid_hyperparameters = None\n",
    "station_bijlmer_arena_hyperparameters = None\n",
    "\n",
    "hyperparameters = [centraal_station_hyperparameters,\n",
    "                   station_zuid_hyperparameters,\n",
    "                   station_bijlmer_arena_hyperparameters\n",
    "                   ]"
   ]
  },
  {
   "cell_type": "code",
   "execution_count": null,
   "id": "b67902c5-cf1f-436c-a72a-df00f96dba67",
   "metadata": {},
   "outputs": [],
   "source": [
    "#tuned_models = []\n",
    "\n",
    "#for x in range(0, len(data_splits)):\n",
    "#    model_tuned, r_squared_tuned, mae_tuned, rmse_tuned = data_utils.train_random_forest_regressor(X_train_splits[x], y_train_splits[x],\n",
    "#                                                                                          X_validation_splits[x], y_validation_splits[x], \n",
    "#                                                                                          hyperparameters[x])\n",
    "#    tuned_models.append([model_tuned, r_squared_tuned, mae_tuned, rmse_tuned])"
   ]
  },
  {
   "cell_type": "markdown",
   "id": "4d926de2-7a56-4a63-a7d4-9b9403b583c4",
   "metadata": {},
   "source": [
    "##### Improvements compared to basic model (negative is worse performance)"
   ]
  },
  {
   "cell_type": "code",
   "execution_count": null,
   "id": "2ad3a4ec-60c9-4dcc-ba5f-fd318c6de61a",
   "metadata": {},
   "outputs": [],
   "source": [
    "#for x in range(0, len(basic_models)):\n",
    "#    print(\"R-squared difference\", tuned_models[x][1]-basic_models[x][1])\n",
    "#    print(\"MAE difference\", tuned_models[x][2]-basic_models[x][2])\n",
    "#    print(\"RMSE difference\", tuned_models[x][3]-basic_models[x][3])"
   ]
  },
  {
   "cell_type": "markdown",
   "id": "bb6304b2-cd18-45c8-8ead-3838a91a64c0",
   "metadata": {},
   "source": [
    "#### Train test model (including validation data)"
   ]
  },
  {
   "cell_type": "code",
   "execution_count": null,
   "id": "e297874d-3e42-43e6-8cbd-e5d48b248cab",
   "metadata": {},
   "outputs": [],
   "source": [
    "test_models = []\n",
    "\n",
    "for x in range(0, len(data_splits)):\n",
    "    X_train_with_val = pd.concat([X_train_splits[x], X_validation_splits[x]])\n",
    "    y_train_with_val = pd.concat([y_train_splits[x], y_validation_splits[x]])\n",
    "\n",
    "    model_test, r_squared_test, mae_test, rmse_test = data_utils.train_random_forest_regressor(X_train_with_val, y_train_with_val,\n",
    "                                                                                          X_test_splits[x], y_test_splits[x],\n",
    "                                                                                          hyperparameters[x])\n",
    "    test_models.append([model_test, r_squared_test, mae_test, rmse_test])"
   ]
  },
  {
   "cell_type": "code",
   "execution_count": null,
   "id": "feac597b-0548-42ff-ae3c-5e9e402e7f10",
   "metadata": {},
   "outputs": [],
   "source": [
    "test_models"
   ]
  },
  {
   "cell_type": "code",
   "execution_count": null,
   "outputs": [],
   "source": [
    "data_utils.log_models(test_models, stations)"
   ],
   "metadata": {
    "collapsed": false,
    "pycharm": {
     "name": "#%%\n"
    }
   }
  },
  {
   "cell_type": "markdown",
   "id": "e133fdfe-ddda-4ba9-9737-0d764a82700e",
   "metadata": {},
   "source": [
    "#### Check models on R-squared score"
   ]
  },
  {
   "cell_type": "code",
   "execution_count": null,
   "id": "5383320e-a263-4c6c-9833-eaeea8f3ebff",
   "metadata": {},
   "outputs": [],
   "source": [
    "for x in range(0, len(test_models)):\n",
    "    station_name = stations[x]\n",
    "    r_squared = test_models[x][1]\n",
    "    if r_squared < 0.7:\n",
    "        warnings.warn(\"Model for \" + station_name + \" shows unexpected performance!\")"
   ]
  },
  {
   "cell_type": "markdown",
   "id": "870d28f4-1741-4a87-af98-89f47463f052",
   "metadata": {},
   "source": [
    "#### Train final models (to make predictions)"
   ]
  },
  {
   "cell_type": "code",
   "execution_count": null,
   "id": "1d51d1e7-6244-47e7-bde7-2c964ac691d8",
   "metadata": {},
   "outputs": [],
   "source": [
    "final_models = []\n",
    "\n",
    "for x in range(0, len(data_splits)):\n",
    "    X_train_with_val = pd.concat([X_train_splits[x], X_validation_splits[x], X_test_splits[x]])\n",
    "    y_train_with_val = pd.concat([y_train_splits[x], y_validation_splits[x], y_test_splits[x]])\n",
    "\n",
    "    model_final = data_utils.train_random_forest_regressor(X_train_with_val, y_train_with_val, X_test_splits[x], y_test_splits[x],\n",
    "                                                  hyperparameters[x])[0]\n",
    "    final_models.append(model_final)"
   ]
  },
  {
   "cell_type": "markdown",
   "id": "fca90fb8-96c1-4445-aa6f-ca030bcd2924",
   "metadata": {},
   "source": [
    "### 6. Predict and Save"
   ]
  },
  {
   "cell_type": "code",
   "execution_count": null,
   "id": "adc28452-dcf4-4a83-ab29-69ae76d2b505",
   "metadata": {
    "pycharm": {
     "name": "#%%\n"
    }
   },
   "outputs": [],
   "source": [
    "predictions = []\n",
    "for i, model in enumerate(final_models):\n",
    "    prediction = data_utils.predict(model, X_predict_dfs[i].dropna())\n",
    "    predictions.append(prediction)\n",
    "\n",
    "for i, prediction in enumerate(predictions):\n",
    "    if not os.path.exists('output/' + stations[i]):\n",
    "        os.mkdir('output/' + stations[i])\n",
    "\n",
    "    prediction.to_csv(\n",
    "        ('output/{}/prediction_next_week_{}.csv'.format(stations[i], date.today().strftime(\"%b-%d-%Y\"))))"
   ]
  }
 ],
 "metadata": {
  "kernelspec": {
   "name": "myenv",
   "language": "python",
   "display_name": "Python (myenv)"
  },
  "language_info": {
   "codemirror_mode": {
    "name": "ipython",
    "version": 3
   },
   "file_extension": ".py",
   "mimetype": "text/x-python",
   "name": "python",
   "nbconvert_exporter": "python",
   "pygments_lexer": "ipython3",
   "version": "3.9.6"
  }
 },
 "nbformat": 4,
 "nbformat_minor": 5
}