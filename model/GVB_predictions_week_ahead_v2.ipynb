{
 "cells": [
  {
   "cell_type": "code",
   "execution_count": 1,
   "outputs": [],
   "source": [
    "%load_ext autoreload\n",
    "%autoreload 2"
   ],
   "metadata": {
    "collapsed": false,
    "pycharm": {
     "name": "#%%\n"
    }
   }
  },
  {
   "cell_type": "code",
   "id": "371f32f7-754e-45e9-9527-40326a33de3c",
   "metadata": {
    "pycharm": {
     "name": "#%%\n"
    }
   },
   "source": [
    "import os\n",
    "from datetime import date\n",
    "\n",
    "import pandas as pd\n",
    "import requests\n",
    "from workalendar.europe import Netherlands\n",
    "\n",
    "import helpers_gvb_reworked_v2 as h\n",
    "\n",
    "%matplotlib inline\n",
    "from time import time\n",
    "\n",
    "import warnings"
   ],
   "execution_count": 2,
   "outputs": []
  },
  {
   "cell_type": "code",
   "execution_count": 3,
   "id": "c55fc6d9-d881-4f33-a8ec-f66d8867776a",
   "metadata": {},
   "outputs": [],
   "source": [
    "# stations to create predictions for\n",
    "stations = ['Centraal Station', 'Station Zuid', 'Station Bijlmer ArenA']\n",
    "\n",
    "#change every week\n",
    "week_no = 48"
   ]
  },
  {
   "cell_type": "code",
   "execution_count": 4,
   "id": "fb85c76e-6769-49a0-8455-d76af88ca1c9",
   "metadata": {},
   "outputs": [],
   "source": [
    "today = pd.to_datetime(\"today\")\n",
    "today_str = str(today.year) + \"-\" + str(today.month) + \"-\" + str(today.day)\n",
    "covid_url = 'https://covidtrackerapi.bsg.ox.ac.uk/api/v2/stringency/date-range/2020-09-01/' + today_str"
   ]
  },
  {
   "cell_type": "markdown",
   "id": "355a20c8-94c6-468b-9d43-3f502c1dc787",
   "metadata": {},
   "source": [
    "# Main"
   ]
  },
  {
   "cell_type": "markdown",
   "id": "89cd1595-1a70-4576-b244-e38c8f9e3e03",
   "metadata": {},
   "source": [
    "## 1. Get data"
   ]
  },
  {
   "cell_type": "code",
   "execution_count": 5,
   "id": "f17a5588-e681-413d-b4e4-a6b500f83900",
   "metadata": {},
   "outputs": [
    {
     "name": "stdout",
     "output_type": "stream",
     "text": [
      "Start loading raw data\n"
     ]
    }
   ],
   "source": [
    "print('Start loading raw data')"
   ]
  },
  {
   "cell_type": "code",
   "execution_count": 6,
   "id": "b726e7ef-c224-49ca-89f2-23b3ea01d830",
   "metadata": {},
   "outputs": [
    {
     "name": "stdout",
     "output_type": "stream",
     "text": [
      "Completed in 84.11515855789185 sec.\n"
     ]
    }
   ],
   "source": [
    "t1 = time()\n",
    "\n",
    "herkomst_2020 = h.get_gvb_data ('Datalab_Reis_Herkomst_Uur_2020')\n",
    "bestemming_2020 = h.get_gvb_data ('Datalab_Reis_Bestemming_Uur_2020')\n",
    "\n",
    "t2 = time()\n",
    "print('Completed in %s sec.' % (str(t2 - t1)))"
   ]
  },
  {
   "cell_type": "code",
   "execution_count": 7,
   "id": "cea3eb85-26c0-4bd3-a766-b44355680d01",
   "metadata": {},
   "outputs": [
    {
     "name": "stdout",
     "output_type": "stream",
     "text": [
      "Completed in 1.5486764907836914 sec.\n"
     ]
    }
   ],
   "source": [
    "t1 = time()\n",
    "\n",
    "herkomst_2021 = h.get_gvb_data ('Datalab_Reis_Herkomst_Uur_2021')\n",
    "bestemming_2021 = h.get_gvb_data ('Datalab_Reis_Bestemming_Uur_2021')\n",
    "\n",
    "t2 = time()\n",
    "print('Completed in %s sec.' % (str(t2 - t1)))"
   ]
  },
  {
   "cell_type": "code",
   "execution_count": 8,
   "outputs": [
    {
     "name": "stdout",
     "output_type": "stream",
     "text": [
      "Completed in 41.26319241523743 sec.\n"
     ]
    }
   ],
   "source": [
    "t1 = time()\n",
    "\n",
    "bestemming_2021 = h.get_gvb_data_json(bestemming_2021)\n",
    "\n",
    "t2 = time()\n",
    "print('Completed in %s sec.' % (str(t2 - t1)))"
   ],
   "metadata": {
    "collapsed": false,
    "pycharm": {
     "name": "#%%\n"
    }
   }
  },
  {
   "cell_type": "code",
   "execution_count": 9,
   "id": "e04ec78a-b121-4566-b628-30a97d352027",
   "metadata": {},
   "outputs": [
    {
     "name": "stdout",
     "output_type": "stream",
     "text": [
      "Completed in 1.4354498386383057 sec.\n"
     ]
    }
   ],
   "source": [
    "t1 = time()\n",
    "\n",
    "knmi_obs = h.get_knmi_data('knmi/knmi-observations/2021/**/**/*')\n",
    "\n",
    "t2 = time()\n",
    "print('Completed in %s sec.' % (str(t2 - t1)))"
   ]
  },
  {
   "cell_type": "code",
   "execution_count": 10,
   "id": "d5d7cb88-8398-41a3-bc2a-32ae7129794d",
   "metadata": {},
   "outputs": [
    {
     "name": "stdout",
     "output_type": "stream",
     "text": [
      "Completed in 45.58239412307739 sec.\n"
     ]
    }
   ],
   "source": [
    "t1 = time()\n",
    "\n",
    "knmi_preds = h.get_knmi_data('knmi/knmi/**/**/**/*.json.gz')\n",
    "\n",
    "t2 = time()\n",
    "print('Completed in %s sec.' % (str(t2 - t1)))"
   ]
  },
  {
   "cell_type": "code",
   "execution_count": 11,
   "outputs": [
    {
     "name": "stderr",
     "output_type": "stream",
     "text": [
      "C:\\Users\\Antonis\\Documents\\UvA\\DSP\\DSP-project\\model\\helpers_gvb_reworked_v2.py:79: SettingWithCopyWarning: \n",
      "A value is trying to be set on a copy of a slice from a DataFrame.\n",
      "Try using .loc[row_indexer,col_indexer] = value instead\n",
      "\n",
      "See the caveats in the documentation: https://pandas.pydata.org/pandas-docs/stable/user_guide/indexing.html#returning-a-view-versus-a-copy\n",
      "  measures_rawNL[\"date\"] = measures_rawNL.apply(\n"
     ]
    }
   ],
   "source": [
    "covid_measures = h.get_covid_measures()"
   ],
   "metadata": {
    "collapsed": false,
    "pycharm": {
     "name": "#%%\n"
    }
   }
  },
  {
   "cell_type": "code",
   "execution_count": 12,
   "outputs": [
    {
     "name": "stderr",
     "output_type": "stream",
     "text": [
      "C:\\Users\\Antonis\\Documents\\UvA\\DSP\\DSP-project\\model\\helpers_gvb_reworked_v2.py:100: SettingWithCopyWarning: \n",
      "A value is trying to be set on a copy of a slice from a DataFrame.\n",
      "Try using .loc[row_indexer,col_indexer] = value instead\n",
      "\n",
      "See the caveats in the documentation: https://pandas.pydata.org/pandas-docs/stable/user_guide/indexing.html#returning-a-view-versus-a-copy\n",
      "  df_covid_nl['datetime'] = pd.to_datetime(df_covid_nl['dateRep']).dt.strftime('%Y-%m-%d')\n"
     ]
    }
   ],
   "source": [
    "df_covid_filtered  = h.get_df_covid_filtered()"
   ],
   "metadata": {
    "collapsed": false,
    "pycharm": {
     "name": "#%%\n"
    }
   }
  },
  {
   "cell_type": "code",
   "execution_count": 13,
   "id": "0cb87654-b7a8-4154-8985-b06fc142c081",
   "metadata": {},
   "outputs": [],
   "source": [
    "covid_df_raw = pd.DataFrame(requests.get(url = covid_url).json()['data'])"
   ]
  },
  {
   "cell_type": "code",
   "execution_count": 14,
   "id": "ff861a54-6dfe-4fb7-b145-b5f038bfda55",
   "metadata": {},
   "outputs": [],
   "source": [
    "holidays_data_raw = Netherlands().holidays(2019) + Netherlands().holidays(2020) + Netherlands().holidays(2021)"
   ]
  },
  {
   "cell_type": "code",
   "execution_count": 15,
   "id": "1910e17f-4eb8-481c-b69f-e73676ffb16c",
   "metadata": {},
   "outputs": [],
   "source": [
    "vacations_df = h.get_vacations()"
   ]
  },
  {
   "cell_type": "code",
   "execution_count": 16,
   "id": "21c4b84b-2d20-4305-b54e-84257743014e",
   "metadata": {},
   "outputs": [],
   "source": [
    "events = h.get_events()"
   ]
  },
  {
   "cell_type": "markdown",
   "id": "3127687a-cf5d-4a86-bf70-9a77565d40e3",
   "metadata": {},
   "source": [
    "### 2. Prepare data"
   ]
  },
  {
   "cell_type": "markdown",
   "id": "83b56f9f-0042-4b6a-b412-d9c0206d71a9",
   "metadata": {},
   "source": [
    "#### Pre-process data sources"
   ]
  },
  {
   "cell_type": "code",
   "execution_count": 17,
   "id": "835e35c1-e1b7-472b-9c10-5cfcc85dc4f2",
   "metadata": {},
   "outputs": [],
   "source": [
    "herkomst = pd.concat([herkomst_2020, herkomst_2021])\n",
    "bestemming = pd.concat([bestemming_2020, bestemming_2021])"
   ]
  },
  {
   "cell_type": "code",
   "execution_count": 18,
   "id": "b81c9bbf-884e-4ffb-8e99-93906290eb85",
   "metadata": {},
   "outputs": [],
   "source": [
    "# Cast 'AantalReizen' to int to sum up\n",
    "bestemming['AantalReizen'] = bestemming['AantalReizen'].astype(int)\n",
    "herkomst['AantalReizen'] = herkomst['AantalReizen'].astype(int)\n",
    "\n",
    "# Remove all duplicates\n",
    "bestemming.drop_duplicates(inplace=True)\n",
    "herkomst.drop_duplicates(inplace=True)\n",
    "\n",
    "# Group by station name because we are analysing per station\n",
    "bestemming_grouped = bestemming.groupby(['Datum', 'UurgroepOmschrijving (van aankomst)', 'AankomstHalteNaam'], as_index=False)['AantalReizen'].sum()\n",
    "herkomst_grouped = herkomst.groupby(['Datum', 'UurgroepOmschrijving (van vertrek)', 'VertrekHalteNaam'], as_index=False)['AantalReizen'].sum()"
   ]
  },
  {
   "cell_type": "code",
   "execution_count": 19,
   "id": "8174eafa-f23b-46ad-a687-d7ca7ff55c44",
   "metadata": {},
   "outputs": [],
   "source": [
    "bestemming_herkomst = h.merge_bestemming_herkomst(bestemming_grouped, herkomst_grouped)"
   ]
  },
  {
   "cell_type": "code",
   "execution_count": 20,
   "id": "da1f5aa9-eadd-46e2-8cb1-52577b58ea48",
   "metadata": {},
   "outputs": [],
   "source": [
    "gvb_dfs = []\n",
    "\n",
    "for station in stations:\n",
    "    gvb_dfs.append(h.preprocess_gvb_data_for_modelling(bestemming_herkomst, station))"
   ]
  },
  {
   "cell_type": "code",
   "execution_count": 21,
   "id": "0c6a2d1f-a539-4f52-83a3-a68b49800218",
   "metadata": {},
   "outputs": [],
   "source": [
    "knmi_historical = h.preprocess_knmi_data_hour(knmi_obs)"
   ]
  },
  {
   "cell_type": "code",
   "execution_count": 22,
   "id": "3b60da48-3d80-433d-83b9-3bf0dcd1dc2a",
   "metadata": {},
   "outputs": [],
   "source": [
    "knmi_forecast = h.preprocess_metpre_data(knmi_preds)"
   ]
  },
  {
   "cell_type": "code",
   "execution_count": 23,
   "id": "a01b8a02-3695-4fe0-84a2-2ce74c370b5b",
   "metadata": {},
   "outputs": [],
   "source": [
    "covid_df = h.preprocess_covid_data(covid_df_raw)"
   ]
  },
  {
   "cell_type": "code",
   "execution_count": 24,
   "id": "57e643b4-5be9-4962-b62f-b9fe1d883c9a",
   "metadata": {},
   "outputs": [],
   "source": [
    "holiday_df = h.preprocess_holiday_data(holidays_data_raw)"
   ]
  },
  {
   "cell_type": "markdown",
   "id": "d57b9801-7023-4b93-bdc9-f03ed0383209",
   "metadata": {},
   "source": [
    "#### Merge datasources"
   ]
  },
  {
   "cell_type": "code",
   "execution_count": 25,
   "outputs": [],
   "source": [
    "gvb_dfs_merged = []\n",
    "\n",
    "for df in gvb_dfs:\n",
    "    gvb_dfs_merged.append(h.merge_gvb_with_datasources(df, knmi_historical, covid_df, covid_measures, holiday_df, vacations_df, events, df_covid_filtered))"
   ],
   "metadata": {
    "collapsed": false,
    "pycharm": {
     "name": "#%%\n"
    }
   }
  },
  {
   "cell_type": "markdown",
   "id": "4d7d1211-44c6-4402-9f74-cc72aa6780c2",
   "metadata": {},
   "source": [
    "### 3. Clean data"
   ]
  },
  {
   "cell_type": "markdown",
   "id": "f88e768f-9509-4ab1-be6a-d76168e936a9",
   "metadata": {},
   "source": [
    "#### Interpolate missing data"
   ]
  },
  {
   "cell_type": "code",
   "execution_count": 26,
   "id": "7e084dfb-13cb-44ac-a3df-fb535640619f",
   "metadata": {},
   "outputs": [
    {
     "name": "stderr",
     "output_type": "stream",
     "text": [
      "C:\\Users\\Antonis\\Documents\\UvA\\DSP\\DSP-project\\model\\helpers_gvb_reworked_v2.py:465: DataConversionWarning: A column-vector y was passed when a 1d array was expected. Please change the shape of y to (n_samples,), for example using ravel().\n",
      "  checkins_interpolator.fit(X_train, y_train)\n",
      "C:\\Users\\Antonis\\Documents\\UvA\\DSP\\DSP-project\\model\\helpers_gvb_reworked_v2.py:477: DataConversionWarning: A column-vector y was passed when a 1d array was expected. Please change the shape of y to (n_samples,), for example using ravel().\n",
      "  checkouts_interpolator.fit(X_train, y_train)\n",
      "C:\\Users\\Antonis\\Documents\\UvA\\DSP\\DSP-project\\model\\helpers_gvb_reworked_v2.py:465: DataConversionWarning: A column-vector y was passed when a 1d array was expected. Please change the shape of y to (n_samples,), for example using ravel().\n",
      "  checkins_interpolator.fit(X_train, y_train)\n",
      "C:\\Users\\Antonis\\Documents\\UvA\\DSP\\DSP-project\\model\\helpers_gvb_reworked_v2.py:477: DataConversionWarning: A column-vector y was passed when a 1d array was expected. Please change the shape of y to (n_samples,), for example using ravel().\n",
      "  checkouts_interpolator.fit(X_train, y_train)\n",
      "C:\\Users\\Antonis\\Documents\\UvA\\DSP\\DSP-project\\model\\helpers_gvb_reworked_v2.py:465: DataConversionWarning: A column-vector y was passed when a 1d array was expected. Please change the shape of y to (n_samples,), for example using ravel().\n",
      "  checkins_interpolator.fit(X_train, y_train)\n",
      "C:\\Users\\Antonis\\Documents\\UvA\\DSP\\DSP-project\\model\\helpers_gvb_reworked_v2.py:477: DataConversionWarning: A column-vector y was passed when a 1d array was expected. Please change the shape of y to (n_samples,), for example using ravel().\n",
      "  checkouts_interpolator.fit(X_train, y_train)\n"
     ]
    }
   ],
   "source": [
    "gvb_dfs_interpolated = []\n",
    "\n",
    "for df in gvb_dfs_merged:\n",
    "    gvb_dfs_interpolated.append(h.interpolate_missing_values(df))"
   ]
  },
  {
   "cell_type": "code",
   "execution_count": 27,
   "id": "5a74407b-f2c2-47fe-80e8-1cce42578096",
   "metadata": {},
   "outputs": [],
   "source": [
    "gvb_dfs_final = []\n",
    "\n",
    "for df in gvb_dfs_interpolated:\n",
    "\n",
    "    df['check-ins'] = df['check-ins'].astype(int)\n",
    "    df['check-outs'] = df['check-outs'].astype(int)\n",
    "    df[['check-ins_week_ago', 'check-outs_week_ago']] = df.apply(lambda x: h.get_crowd_last_week(df, x), axis=1, result_type=\"expand\")\n",
    "\n",
    "    gvb_dfs_final.append(df)"
   ]
  },
  {
   "cell_type": "markdown",
   "id": "65eb849a-ec42-4294-9be1-0219214489b4",
   "metadata": {},
   "source": [
    "#### 4. Create model dataframes"
   ]
  },
  {
   "cell_type": "code",
   "execution_count": 28,
   "outputs": [],
   "source": [
    "# Define features and targets. This is the same for all stations at the moment.\n",
    "features = ['year', 'month', 'weekday', 'hour', 'holiday', 'vacation', 'planned_event', 'temperature', 'wind_speed', 'precipitation_h','global_radiation', 'cases', 'deaths'] + list(covid_measures.columns.values)\n",
    "# features = ['year', 'month', 'weekday', 'hour', 'holiday', 'vacation', 'planned_event', 'temperature', 'wind_speed', 'precipitation_h','global_radiation', 'stringency', 'cases', 'deaths']\n",
    "\n",
    "targets = ['check-ins', 'check-outs']"
   ],
   "metadata": {
    "collapsed": false,
    "pycharm": {
     "name": "#%%\n"
    }
   }
  },
  {
   "cell_type": "code",
   "execution_count": 29,
   "id": "41fb8175-9821-417f-ad97-80e4fb208ad7",
   "metadata": {},
   "outputs": [],
   "source": [
    "data_splits = []\n",
    "\n",
    "for df in gvb_dfs_final:\n",
    "    df = df[['datetime'] + features + targets]\n",
    "\n",
    "    train, validation, test = h.get_train_val_test_split(df.dropna())\n",
    "    data_splits.append([train, validation, test])"
   ]
  },
  {
   "cell_type": "code",
   "execution_count": 30,
   "id": "b1e98d94-c94e-4a01-9c71-53bebe681eae",
   "metadata": {},
   "outputs": [],
   "source": [
    "X_train_splits = []\n",
    "y_train_splits = []\n",
    "\n",
    "X_validation_splits = []\n",
    "y_validation_splits = []\n",
    "\n",
    "X_test_splits = []\n",
    "y_test_splits = []\n",
    "\n",
    "for split in data_splits:\n",
    "\n",
    "    X_train_splits.append(split[0][features])\n",
    "    y_train_splits.append(split[0][targets])\n",
    "\n",
    "    X_validation_splits.append(split[1][features])\n",
    "    y_validation_splits.append(split[1][targets])\n",
    "\n",
    "    X_test_splits.append(split[2][features])\n",
    "    y_test_splits.append(split[2][targets])"
   ]
  },
  {
   "cell_type": "code",
   "execution_count": 31,
   "id": "76a69e4d-ac43-439a-8a5d-cbceb6f6c592",
   "metadata": {},
   "outputs": [
    {
     "name": "stderr",
     "output_type": "stream",
     "text": [
      "C:\\Users\\Antonis\\Documents\\UvA\\DSP\\DSP-project\\model\\helpers_gvb_reworked_v2.py:610: SettingWithCopyWarning: \n",
      "A value is trying to be set on a copy of a slice from a DataFrame\n",
      "\n",
      "See the caveats in the documentation: https://pandas.pydata.org/pandas-docs/stable/user_guide/indexing.html#returning-a-view-versus-a-copy\n",
      "  df['peak_period'][df.hour.isin([7, 8, 17, 18])] = 1\n",
      "C:\\Users\\Antonis\\Documents\\UvA\\DSP\\DSP-project\\model\\helpers_gvb_reworked_v2.py:610: SettingWithCopyWarning: \n",
      "A value is trying to be set on a copy of a slice from a DataFrame\n",
      "\n",
      "See the caveats in the documentation: https://pandas.pydata.org/pandas-docs/stable/user_guide/indexing.html#returning-a-view-versus-a-copy\n",
      "  df['peak_period'][df.hour.isin([7, 8, 17, 18])] = 1\n",
      "C:\\Users\\Antonis\\Documents\\UvA\\DSP\\DSP-project\\model\\helpers_gvb_reworked_v2.py:610: SettingWithCopyWarning: \n",
      "A value is trying to be set on a copy of a slice from a DataFrame\n",
      "\n",
      "See the caveats in the documentation: https://pandas.pydata.org/pandas-docs/stable/user_guide/indexing.html#returning-a-view-versus-a-copy\n",
      "  df['peak_period'][df.hour.isin([7, 8, 17, 18])] = 1\n"
     ]
    }
   ],
   "source": [
    "# Dataframes to predict cdfheck-ins and check-outs of next week\n",
    "X_predict_dfs = []\n",
    "\n",
    "for df in gvb_dfs_final:\n",
    "    X_predict_dfs.append(h.get_future_df(features, df, covid_df.tail(1)['stringency'][0], covid_measures, df_covid_filtered, holiday_df, vacations_df, knmi_forecast, events))"
   ]
  },
  {
   "cell_type": "code",
   "execution_count": 45,
   "outputs": [
    {
     "data": {
      "text/plain": "    year  month  weekday  hour  holiday  vacation  planned_event  temperature  \\\n0   2022      1        0     0        0         0            0.0          7.0   \n1   2022      1        0     1        0         0            0.0          7.0   \n2   2022      1        0     2        0         0            0.0          7.0   \n3   2022      1        0     3        0         0            0.0          7.0   \n4   2022      1        0     4        0         0            0.0          7.0   \n5   2022      1        0     5        0         0            0.0          7.0   \n6   2022      1        0     6        0         0            0.0          7.0   \n7   2022      1        0     7        0         0            0.0          7.0   \n8   2022      1        0     8        0         0            0.0          7.0   \n9   2022      1        0     9        0         0            0.0          7.0   \n10  2022      1        0    10        0         0            0.0          7.0   \n11  2022      1        0    11        0         0            0.0          7.0   \n12  2022      1        0    12        0         0            0.0          7.0   \n13  2022      1        0    13        0         0            0.0          7.0   \n14  2022      1        0    14        0         0            0.0          7.0   \n15  2022      1        0    15        0         0            0.0          7.0   \n16  2022      1        0    16        0         0            0.0          7.0   \n17  2022      1        0    17        0         0            0.0          7.0   \n18  2022      1        0    18        0         0            0.5          7.0   \n19  2022      1        0    19        0         0            0.5          6.0   \n20  2022      1        0    20        0         0            0.5          6.0   \n21  2022      1        0    21        0         0            0.5          6.0   \n22  2022      1        0    22        0         0            0.5          6.0   \n23  2022      1        0    23        0         0            0.5          6.0   \n\n    wind_speed  precipitation_h  ...  RestaurantsCafesPartial  StayHomeGen  \\\n0          2.0              0.0  ...                      0.0          1.0   \n1          3.0              0.0  ...                      0.0          1.0   \n2          3.0              0.0  ...                      0.0          1.0   \n3          3.0              0.0  ...                      0.0          1.0   \n4          3.0              0.0  ...                      0.0          1.0   \n5          3.0              0.0  ...                      0.0          1.0   \n6          3.0              0.0  ...                      0.0          1.0   \n7          2.0              0.0  ...                      0.0          1.0   \n8          2.0              0.0  ...                      0.0          1.0   \n9          2.0              0.0  ...                      0.0          1.0   \n10         3.0              0.0  ...                      0.0          1.0   \n11         3.0              0.0  ...                      0.0          1.0   \n12         3.0              0.0  ...                      0.0          1.0   \n13         3.0              0.0  ...                      0.0          1.0   \n14         3.0              0.0  ...                      0.0          1.0   \n15         3.0              0.0  ...                      0.0          1.0   \n16         2.0              0.0  ...                      0.0          1.0   \n17         2.0              0.0  ...                      0.0          1.0   \n18         2.0              0.0  ...                      0.0          1.0   \n19         3.0              0.0  ...                      0.0          1.0   \n20         3.0              0.0  ...                      0.0          1.0   \n21         3.0              0.0  ...                      0.0          1.0   \n22         3.0              0.0  ...                      0.0          1.0   \n23         3.0              0.0  ...                      0.0          1.0   \n\n    StayHomeGenPartial  StayHomeOrderPartial  StayHomeRiskG  Teleworking  \\\n0                  0.0                   0.0            0.0          1.0   \n1                  0.0                   0.0            0.0          1.0   \n2                  0.0                   0.0            0.0          1.0   \n3                  0.0                   0.0            0.0          1.0   \n4                  0.0                   0.0            0.0          1.0   \n5                  0.0                   0.0            0.0          1.0   \n6                  0.0                   0.0            0.0          1.0   \n7                  0.0                   0.0            0.0          1.0   \n8                  0.0                   0.0            0.0          1.0   \n9                  0.0                   0.0            0.0          1.0   \n10                 0.0                   0.0            0.0          1.0   \n11                 0.0                   0.0            0.0          1.0   \n12                 0.0                   0.0            0.0          1.0   \n13                 0.0                   0.0            0.0          1.0   \n14                 0.0                   0.0            0.0          1.0   \n15                 0.0                   0.0            0.0          1.0   \n16                 0.0                   0.0            0.0          1.0   \n17                 0.0                   0.0            0.0          1.0   \n18                 0.0                   0.0            0.0          1.0   \n19                 0.0                   0.0            0.0          1.0   \n20                 0.0                   0.0            0.0          1.0   \n21                 0.0                   0.0            0.0          1.0   \n22                 0.0                   0.0            0.0          1.0   \n23                 0.0                   0.0            0.0          1.0   \n\n    TeleworkingPartial  WorkplaceClosures  WorkplaceClosuresPartial   datetime  \n0                  0.0                0.0                       0.0 2022-01-24  \n1                  0.0                0.0                       0.0 2022-01-24  \n2                  0.0                0.0                       0.0 2022-01-24  \n3                  0.0                0.0                       0.0 2022-01-24  \n4                  0.0                0.0                       0.0 2022-01-24  \n5                  0.0                0.0                       0.0 2022-01-24  \n6                  0.0                0.0                       0.0 2022-01-24  \n7                  0.0                0.0                       0.0 2022-01-24  \n8                  0.0                0.0                       0.0 2022-01-24  \n9                  0.0                0.0                       0.0 2022-01-24  \n10                 0.0                0.0                       0.0 2022-01-24  \n11                 0.0                0.0                       0.0 2022-01-24  \n12                 0.0                0.0                       0.0 2022-01-24  \n13                 0.0                0.0                       0.0 2022-01-24  \n14                 0.0                0.0                       0.0 2022-01-24  \n15                 0.0                0.0                       0.0 2022-01-24  \n16                 0.0                0.0                       0.0 2022-01-24  \n17                 0.0                0.0                       0.0 2022-01-24  \n18                 0.0                0.0                       0.0 2022-01-24  \n19                 0.0                0.0                       0.0 2022-01-24  \n20                 0.0                0.0                       0.0 2022-01-24  \n21                 0.0                0.0                       0.0 2022-01-24  \n22                 0.0                0.0                       0.0 2022-01-24  \n23                 0.0                0.0                       0.0 2022-01-24  \n\n[24 rows x 65 columns]",
      "text/html": "<div>\n<style scoped>\n    .dataframe tbody tr th:only-of-type {\n        vertical-align: middle;\n    }\n\n    .dataframe tbody tr th {\n        vertical-align: top;\n    }\n\n    .dataframe thead th {\n        text-align: right;\n    }\n</style>\n<table border=\"1\" class=\"dataframe\">\n  <thead>\n    <tr style=\"text-align: right;\">\n      <th></th>\n      <th>year</th>\n      <th>month</th>\n      <th>weekday</th>\n      <th>hour</th>\n      <th>holiday</th>\n      <th>vacation</th>\n      <th>planned_event</th>\n      <th>temperature</th>\n      <th>wind_speed</th>\n      <th>precipitation_h</th>\n      <th>...</th>\n      <th>RestaurantsCafesPartial</th>\n      <th>StayHomeGen</th>\n      <th>StayHomeGenPartial</th>\n      <th>StayHomeOrderPartial</th>\n      <th>StayHomeRiskG</th>\n      <th>Teleworking</th>\n      <th>TeleworkingPartial</th>\n      <th>WorkplaceClosures</th>\n      <th>WorkplaceClosuresPartial</th>\n      <th>datetime</th>\n    </tr>\n  </thead>\n  <tbody>\n    <tr>\n      <th>0</th>\n      <td>2022</td>\n      <td>1</td>\n      <td>0</td>\n      <td>0</td>\n      <td>0</td>\n      <td>0</td>\n      <td>0.0</td>\n      <td>7.0</td>\n      <td>2.0</td>\n      <td>0.0</td>\n      <td>...</td>\n      <td>0.0</td>\n      <td>1.0</td>\n      <td>0.0</td>\n      <td>0.0</td>\n      <td>0.0</td>\n      <td>1.0</td>\n      <td>0.0</td>\n      <td>0.0</td>\n      <td>0.0</td>\n      <td>2022-01-24</td>\n    </tr>\n    <tr>\n      <th>1</th>\n      <td>2022</td>\n      <td>1</td>\n      <td>0</td>\n      <td>1</td>\n      <td>0</td>\n      <td>0</td>\n      <td>0.0</td>\n      <td>7.0</td>\n      <td>3.0</td>\n      <td>0.0</td>\n      <td>...</td>\n      <td>0.0</td>\n      <td>1.0</td>\n      <td>0.0</td>\n      <td>0.0</td>\n      <td>0.0</td>\n      <td>1.0</td>\n      <td>0.0</td>\n      <td>0.0</td>\n      <td>0.0</td>\n      <td>2022-01-24</td>\n    </tr>\n    <tr>\n      <th>2</th>\n      <td>2022</td>\n      <td>1</td>\n      <td>0</td>\n      <td>2</td>\n      <td>0</td>\n      <td>0</td>\n      <td>0.0</td>\n      <td>7.0</td>\n      <td>3.0</td>\n      <td>0.0</td>\n      <td>...</td>\n      <td>0.0</td>\n      <td>1.0</td>\n      <td>0.0</td>\n      <td>0.0</td>\n      <td>0.0</td>\n      <td>1.0</td>\n      <td>0.0</td>\n      <td>0.0</td>\n      <td>0.0</td>\n      <td>2022-01-24</td>\n    </tr>\n    <tr>\n      <th>3</th>\n      <td>2022</td>\n      <td>1</td>\n      <td>0</td>\n      <td>3</td>\n      <td>0</td>\n      <td>0</td>\n      <td>0.0</td>\n      <td>7.0</td>\n      <td>3.0</td>\n      <td>0.0</td>\n      <td>...</td>\n      <td>0.0</td>\n      <td>1.0</td>\n      <td>0.0</td>\n      <td>0.0</td>\n      <td>0.0</td>\n      <td>1.0</td>\n      <td>0.0</td>\n      <td>0.0</td>\n      <td>0.0</td>\n      <td>2022-01-24</td>\n    </tr>\n    <tr>\n      <th>4</th>\n      <td>2022</td>\n      <td>1</td>\n      <td>0</td>\n      <td>4</td>\n      <td>0</td>\n      <td>0</td>\n      <td>0.0</td>\n      <td>7.0</td>\n      <td>3.0</td>\n      <td>0.0</td>\n      <td>...</td>\n      <td>0.0</td>\n      <td>1.0</td>\n      <td>0.0</td>\n      <td>0.0</td>\n      <td>0.0</td>\n      <td>1.0</td>\n      <td>0.0</td>\n      <td>0.0</td>\n      <td>0.0</td>\n      <td>2022-01-24</td>\n    </tr>\n    <tr>\n      <th>5</th>\n      <td>2022</td>\n      <td>1</td>\n      <td>0</td>\n      <td>5</td>\n      <td>0</td>\n      <td>0</td>\n      <td>0.0</td>\n      <td>7.0</td>\n      <td>3.0</td>\n      <td>0.0</td>\n      <td>...</td>\n      <td>0.0</td>\n      <td>1.0</td>\n      <td>0.0</td>\n      <td>0.0</td>\n      <td>0.0</td>\n      <td>1.0</td>\n      <td>0.0</td>\n      <td>0.0</td>\n      <td>0.0</td>\n      <td>2022-01-24</td>\n    </tr>\n    <tr>\n      <th>6</th>\n      <td>2022</td>\n      <td>1</td>\n      <td>0</td>\n      <td>6</td>\n      <td>0</td>\n      <td>0</td>\n      <td>0.0</td>\n      <td>7.0</td>\n      <td>3.0</td>\n      <td>0.0</td>\n      <td>...</td>\n      <td>0.0</td>\n      <td>1.0</td>\n      <td>0.0</td>\n      <td>0.0</td>\n      <td>0.0</td>\n      <td>1.0</td>\n      <td>0.0</td>\n      <td>0.0</td>\n      <td>0.0</td>\n      <td>2022-01-24</td>\n    </tr>\n    <tr>\n      <th>7</th>\n      <td>2022</td>\n      <td>1</td>\n      <td>0</td>\n      <td>7</td>\n      <td>0</td>\n      <td>0</td>\n      <td>0.0</td>\n      <td>7.0</td>\n      <td>2.0</td>\n      <td>0.0</td>\n      <td>...</td>\n      <td>0.0</td>\n      <td>1.0</td>\n      <td>0.0</td>\n      <td>0.0</td>\n      <td>0.0</td>\n      <td>1.0</td>\n      <td>0.0</td>\n      <td>0.0</td>\n      <td>0.0</td>\n      <td>2022-01-24</td>\n    </tr>\n    <tr>\n      <th>8</th>\n      <td>2022</td>\n      <td>1</td>\n      <td>0</td>\n      <td>8</td>\n      <td>0</td>\n      <td>0</td>\n      <td>0.0</td>\n      <td>7.0</td>\n      <td>2.0</td>\n      <td>0.0</td>\n      <td>...</td>\n      <td>0.0</td>\n      <td>1.0</td>\n      <td>0.0</td>\n      <td>0.0</td>\n      <td>0.0</td>\n      <td>1.0</td>\n      <td>0.0</td>\n      <td>0.0</td>\n      <td>0.0</td>\n      <td>2022-01-24</td>\n    </tr>\n    <tr>\n      <th>9</th>\n      <td>2022</td>\n      <td>1</td>\n      <td>0</td>\n      <td>9</td>\n      <td>0</td>\n      <td>0</td>\n      <td>0.0</td>\n      <td>7.0</td>\n      <td>2.0</td>\n      <td>0.0</td>\n      <td>...</td>\n      <td>0.0</td>\n      <td>1.0</td>\n      <td>0.0</td>\n      <td>0.0</td>\n      <td>0.0</td>\n      <td>1.0</td>\n      <td>0.0</td>\n      <td>0.0</td>\n      <td>0.0</td>\n      <td>2022-01-24</td>\n    </tr>\n    <tr>\n      <th>10</th>\n      <td>2022</td>\n      <td>1</td>\n      <td>0</td>\n      <td>10</td>\n      <td>0</td>\n      <td>0</td>\n      <td>0.0</td>\n      <td>7.0</td>\n      <td>3.0</td>\n      <td>0.0</td>\n      <td>...</td>\n      <td>0.0</td>\n      <td>1.0</td>\n      <td>0.0</td>\n      <td>0.0</td>\n      <td>0.0</td>\n      <td>1.0</td>\n      <td>0.0</td>\n      <td>0.0</td>\n      <td>0.0</td>\n      <td>2022-01-24</td>\n    </tr>\n    <tr>\n      <th>11</th>\n      <td>2022</td>\n      <td>1</td>\n      <td>0</td>\n      <td>11</td>\n      <td>0</td>\n      <td>0</td>\n      <td>0.0</td>\n      <td>7.0</td>\n      <td>3.0</td>\n      <td>0.0</td>\n      <td>...</td>\n      <td>0.0</td>\n      <td>1.0</td>\n      <td>0.0</td>\n      <td>0.0</td>\n      <td>0.0</td>\n      <td>1.0</td>\n      <td>0.0</td>\n      <td>0.0</td>\n      <td>0.0</td>\n      <td>2022-01-24</td>\n    </tr>\n    <tr>\n      <th>12</th>\n      <td>2022</td>\n      <td>1</td>\n      <td>0</td>\n      <td>12</td>\n      <td>0</td>\n      <td>0</td>\n      <td>0.0</td>\n      <td>7.0</td>\n      <td>3.0</td>\n      <td>0.0</td>\n      <td>...</td>\n      <td>0.0</td>\n      <td>1.0</td>\n      <td>0.0</td>\n      <td>0.0</td>\n      <td>0.0</td>\n      <td>1.0</td>\n      <td>0.0</td>\n      <td>0.0</td>\n      <td>0.0</td>\n      <td>2022-01-24</td>\n    </tr>\n    <tr>\n      <th>13</th>\n      <td>2022</td>\n      <td>1</td>\n      <td>0</td>\n      <td>13</td>\n      <td>0</td>\n      <td>0</td>\n      <td>0.0</td>\n      <td>7.0</td>\n      <td>3.0</td>\n      <td>0.0</td>\n      <td>...</td>\n      <td>0.0</td>\n      <td>1.0</td>\n      <td>0.0</td>\n      <td>0.0</td>\n      <td>0.0</td>\n      <td>1.0</td>\n      <td>0.0</td>\n      <td>0.0</td>\n      <td>0.0</td>\n      <td>2022-01-24</td>\n    </tr>\n    <tr>\n      <th>14</th>\n      <td>2022</td>\n      <td>1</td>\n      <td>0</td>\n      <td>14</td>\n      <td>0</td>\n      <td>0</td>\n      <td>0.0</td>\n      <td>7.0</td>\n      <td>3.0</td>\n      <td>0.0</td>\n      <td>...</td>\n      <td>0.0</td>\n      <td>1.0</td>\n      <td>0.0</td>\n      <td>0.0</td>\n      <td>0.0</td>\n      <td>1.0</td>\n      <td>0.0</td>\n      <td>0.0</td>\n      <td>0.0</td>\n      <td>2022-01-24</td>\n    </tr>\n    <tr>\n      <th>15</th>\n      <td>2022</td>\n      <td>1</td>\n      <td>0</td>\n      <td>15</td>\n      <td>0</td>\n      <td>0</td>\n      <td>0.0</td>\n      <td>7.0</td>\n      <td>3.0</td>\n      <td>0.0</td>\n      <td>...</td>\n      <td>0.0</td>\n      <td>1.0</td>\n      <td>0.0</td>\n      <td>0.0</td>\n      <td>0.0</td>\n      <td>1.0</td>\n      <td>0.0</td>\n      <td>0.0</td>\n      <td>0.0</td>\n      <td>2022-01-24</td>\n    </tr>\n    <tr>\n      <th>16</th>\n      <td>2022</td>\n      <td>1</td>\n      <td>0</td>\n      <td>16</td>\n      <td>0</td>\n      <td>0</td>\n      <td>0.0</td>\n      <td>7.0</td>\n      <td>2.0</td>\n      <td>0.0</td>\n      <td>...</td>\n      <td>0.0</td>\n      <td>1.0</td>\n      <td>0.0</td>\n      <td>0.0</td>\n      <td>0.0</td>\n      <td>1.0</td>\n      <td>0.0</td>\n      <td>0.0</td>\n      <td>0.0</td>\n      <td>2022-01-24</td>\n    </tr>\n    <tr>\n      <th>17</th>\n      <td>2022</td>\n      <td>1</td>\n      <td>0</td>\n      <td>17</td>\n      <td>0</td>\n      <td>0</td>\n      <td>0.0</td>\n      <td>7.0</td>\n      <td>2.0</td>\n      <td>0.0</td>\n      <td>...</td>\n      <td>0.0</td>\n      <td>1.0</td>\n      <td>0.0</td>\n      <td>0.0</td>\n      <td>0.0</td>\n      <td>1.0</td>\n      <td>0.0</td>\n      <td>0.0</td>\n      <td>0.0</td>\n      <td>2022-01-24</td>\n    </tr>\n    <tr>\n      <th>18</th>\n      <td>2022</td>\n      <td>1</td>\n      <td>0</td>\n      <td>18</td>\n      <td>0</td>\n      <td>0</td>\n      <td>0.5</td>\n      <td>7.0</td>\n      <td>2.0</td>\n      <td>0.0</td>\n      <td>...</td>\n      <td>0.0</td>\n      <td>1.0</td>\n      <td>0.0</td>\n      <td>0.0</td>\n      <td>0.0</td>\n      <td>1.0</td>\n      <td>0.0</td>\n      <td>0.0</td>\n      <td>0.0</td>\n      <td>2022-01-24</td>\n    </tr>\n    <tr>\n      <th>19</th>\n      <td>2022</td>\n      <td>1</td>\n      <td>0</td>\n      <td>19</td>\n      <td>0</td>\n      <td>0</td>\n      <td>0.5</td>\n      <td>6.0</td>\n      <td>3.0</td>\n      <td>0.0</td>\n      <td>...</td>\n      <td>0.0</td>\n      <td>1.0</td>\n      <td>0.0</td>\n      <td>0.0</td>\n      <td>0.0</td>\n      <td>1.0</td>\n      <td>0.0</td>\n      <td>0.0</td>\n      <td>0.0</td>\n      <td>2022-01-24</td>\n    </tr>\n    <tr>\n      <th>20</th>\n      <td>2022</td>\n      <td>1</td>\n      <td>0</td>\n      <td>20</td>\n      <td>0</td>\n      <td>0</td>\n      <td>0.5</td>\n      <td>6.0</td>\n      <td>3.0</td>\n      <td>0.0</td>\n      <td>...</td>\n      <td>0.0</td>\n      <td>1.0</td>\n      <td>0.0</td>\n      <td>0.0</td>\n      <td>0.0</td>\n      <td>1.0</td>\n      <td>0.0</td>\n      <td>0.0</td>\n      <td>0.0</td>\n      <td>2022-01-24</td>\n    </tr>\n    <tr>\n      <th>21</th>\n      <td>2022</td>\n      <td>1</td>\n      <td>0</td>\n      <td>21</td>\n      <td>0</td>\n      <td>0</td>\n      <td>0.5</td>\n      <td>6.0</td>\n      <td>3.0</td>\n      <td>0.0</td>\n      <td>...</td>\n      <td>0.0</td>\n      <td>1.0</td>\n      <td>0.0</td>\n      <td>0.0</td>\n      <td>0.0</td>\n      <td>1.0</td>\n      <td>0.0</td>\n      <td>0.0</td>\n      <td>0.0</td>\n      <td>2022-01-24</td>\n    </tr>\n    <tr>\n      <th>22</th>\n      <td>2022</td>\n      <td>1</td>\n      <td>0</td>\n      <td>22</td>\n      <td>0</td>\n      <td>0</td>\n      <td>0.5</td>\n      <td>6.0</td>\n      <td>3.0</td>\n      <td>0.0</td>\n      <td>...</td>\n      <td>0.0</td>\n      <td>1.0</td>\n      <td>0.0</td>\n      <td>0.0</td>\n      <td>0.0</td>\n      <td>1.0</td>\n      <td>0.0</td>\n      <td>0.0</td>\n      <td>0.0</td>\n      <td>2022-01-24</td>\n    </tr>\n    <tr>\n      <th>23</th>\n      <td>2022</td>\n      <td>1</td>\n      <td>0</td>\n      <td>23</td>\n      <td>0</td>\n      <td>0</td>\n      <td>0.5</td>\n      <td>6.0</td>\n      <td>3.0</td>\n      <td>0.0</td>\n      <td>...</td>\n      <td>0.0</td>\n      <td>1.0</td>\n      <td>0.0</td>\n      <td>0.0</td>\n      <td>0.0</td>\n      <td>1.0</td>\n      <td>0.0</td>\n      <td>0.0</td>\n      <td>0.0</td>\n      <td>2022-01-24</td>\n    </tr>\n  </tbody>\n</table>\n<p>24 rows × 65 columns</p>\n</div>"
     },
     "execution_count": 45,
     "metadata": {},
     "output_type": "execute_result"
    }
   ],
   "source": [
    "X_predict_dfs[0].dropna()"
   ],
   "metadata": {
    "collapsed": false,
    "pycharm": {
     "name": "#%%\n"
    }
   }
  },
  {
   "cell_type": "markdown",
   "id": "f6772335-e1de-49ff-97d7-91aa0b88e55d",
   "metadata": {},
   "source": [
    "### 5. Create model"
   ]
  },
  {
   "cell_type": "code",
   "execution_count": 33,
   "id": "5ad550a4-3be4-4a35-ae76-0c8503936c29",
   "metadata": {},
   "outputs": [],
   "source": [
    "# basic_models = []\n",
    "#\n",
    "# for x in range(0, len(data_splits)):\n",
    "#     model_basic, r_squared_basic, mae_basic, rmse_basic = h.train_random_forest_regressor(X_train_splits[x], y_train_splits[x],\n",
    "#                                                                                           X_validation_splits[x], y_validation_splits[x],\n",
    "#                                                                                           None)\n",
    "#     basic_models.append([model_basic, r_squared_basic, mae_basic, rmse_basic])"
   ]
  },
  {
   "cell_type": "code",
   "execution_count": 34,
   "id": "1dffd19a-7d34-4289-a22b-36e4764559b8",
   "metadata": {},
   "outputs": [],
   "source": [
    "#### Tune (hyper-)parameters (not done because models currently do not improve with hyperparameter tuning)"
   ]
  },
  {
   "cell_type": "code",
   "execution_count": 35,
   "id": "b09f27e1-da31-4c14-a527-2f61098953c8",
   "metadata": {},
   "outputs": [],
   "source": [
    "# Specify hyperparameters, these could be station-specific. For now, default hyperparameter settings are being used.\n",
    "centraal_station_hyperparameters = None\n",
    "station_zuid_hyperparameters = None\n",
    "station_bijlmer_arena_hyperparameters = None\n",
    "\n",
    "hyperparameters = [centraal_station_hyperparameters,\n",
    "                   station_zuid_hyperparameters,\n",
    "                   station_bijlmer_arena_hyperparameters\n",
    "                   ]"
   ]
  },
  {
   "cell_type": "code",
   "execution_count": 36,
   "id": "b67902c5-cf1f-436c-a72a-df00f96dba67",
   "metadata": {},
   "outputs": [],
   "source": [
    "#tuned_models = []\n",
    "\n",
    "#for x in range(0, len(data_splits)):\n",
    "#    model_tuned, r_squared_tuned, mae_tuned, rmse_tuned = h.train_random_forest_regressor(X_train_splits[x], y_train_splits[x], \n",
    "#                                                                                          X_validation_splits[x], y_validation_splits[x], \n",
    "#                                                                                          hyperparameters[x])\n",
    "#    tuned_models.append([model_tuned, r_squared_tuned, mae_tuned, rmse_tuned])"
   ]
  },
  {
   "cell_type": "markdown",
   "id": "4d926de2-7a56-4a63-a7d4-9b9403b583c4",
   "metadata": {},
   "source": [
    "##### Improvements compared to basic model (negative is worse performance)"
   ]
  },
  {
   "cell_type": "code",
   "execution_count": 37,
   "id": "2ad3a4ec-60c9-4dcc-ba5f-fd318c6de61a",
   "metadata": {},
   "outputs": [],
   "source": [
    "#for x in range(0, len(basic_models)):\n",
    "#    print(\"R-squared difference\", tuned_models[x][1]-basic_models[x][1])\n",
    "#    print(\"MAE difference\", tuned_models[x][2]-basic_models[x][2])\n",
    "#    print(\"RMSE difference\", tuned_models[x][3]-basic_models[x][3])"
   ]
  },
  {
   "cell_type": "markdown",
   "id": "bb6304b2-cd18-45c8-8ead-3838a91a64c0",
   "metadata": {},
   "source": [
    "#### Train test model (including validation data)"
   ]
  },
  {
   "cell_type": "code",
   "execution_count": 38,
   "id": "e297874d-3e42-43e6-8cbd-e5d48b248cab",
   "metadata": {},
   "outputs": [],
   "source": [
    "test_models = []\n",
    "\n",
    "for x in range(0, len(data_splits)):\n",
    "    X_train_with_val = pd.concat([X_train_splits[x], X_validation_splits[x]])\n",
    "    y_train_with_val = pd.concat([y_train_splits[x], y_validation_splits[x]])\n",
    "\n",
    "    model_test, r_squared_test, mae_test, rmse_test = h.train_random_forest_regressor(X_train_with_val, y_train_with_val,\n",
    "                                                                                          X_test_splits[x], y_test_splits[x],\n",
    "                                                                                          hyperparameters[x])\n",
    "    test_models.append([model_test, r_squared_test, mae_test, rmse_test])"
   ]
  },
  {
   "cell_type": "code",
   "execution_count": 39,
   "id": "feac597b-0548-42ff-ae3c-5e9e402e7f10",
   "metadata": {},
   "outputs": [
    {
     "data": {
      "text/plain": "[[RandomForestRegressor(random_state=1),\n  0.9235309694767143,\n  158.02463709677423,\n  291.71866798683993],\n [RandomForestRegressor(random_state=1),\n  0.8777953099640305,\n  83.09130252100837,\n  168.7934187018523],\n [RandomForestRegressor(random_state=1),\n  0.5948012148899282,\n  45.516129032258064,\n  78.47413291200053]]"
     },
     "execution_count": 39,
     "metadata": {},
     "output_type": "execute_result"
    }
   ],
   "source": [
    "test_models"
   ]
  },
  {
   "cell_type": "code",
   "execution_count": 40,
   "outputs": [],
   "source": [
    "h.log_models(test_models, stations)"
   ],
   "metadata": {
    "collapsed": false,
    "pycharm": {
     "name": "#%%\n"
    }
   }
  },
  {
   "cell_type": "markdown",
   "id": "e133fdfe-ddda-4ba9-9737-0d764a82700e",
   "metadata": {},
   "source": [
    "#### Check models on R-squared score"
   ]
  },
  {
   "cell_type": "code",
   "execution_count": 41,
   "id": "5383320e-a263-4c6c-9833-eaeea8f3ebff",
   "metadata": {},
   "outputs": [
    {
     "name": "stderr",
     "output_type": "stream",
     "text": [
      "<ipython-input-41-0cf3af343546>:5: UserWarning: Model for Station Bijlmer ArenA shows unexpected performance!\n",
      "  warnings.warn(\"Model for \" + station_name + \" shows unexpected performance!\")\n"
     ]
    }
   ],
   "source": [
    "for x in range(0, len(test_models)):\n",
    "    station_name = stations[x]\n",
    "    r_squared = test_models[x][1]\n",
    "    if r_squared < 0.7:\n",
    "        warnings.warn(\"Model for \" + station_name + \" shows unexpected performance!\")"
   ]
  },
  {
   "cell_type": "markdown",
   "id": "870d28f4-1741-4a87-af98-89f47463f052",
   "metadata": {},
   "source": [
    "#### Train final models (to make predictions)"
   ]
  },
  {
   "cell_type": "code",
   "execution_count": 42,
   "id": "1d51d1e7-6244-47e7-bde7-2c964ac691d8",
   "metadata": {},
   "outputs": [],
   "source": [
    "final_models = []\n",
    "\n",
    "for x in range(0, len(data_splits)):\n",
    "    X_train_with_val = pd.concat([X_train_splits[x], X_validation_splits[x], X_test_splits[x]])\n",
    "    y_train_with_val = pd.concat([y_train_splits[x], y_validation_splits[x], y_test_splits[x]])\n",
    "\n",
    "    model_final = h.train_random_forest_regressor(X_train_with_val, y_train_with_val, X_test_splits[x], y_test_splits[x],\n",
    "                                                  hyperparameters[x])[0]\n",
    "    final_models.append(model_final)"
   ]
  },
  {
   "cell_type": "markdown",
   "id": "fca90fb8-96c1-4445-aa6f-ca030bcd2924",
   "metadata": {},
   "source": [
    "### 6. Predict and Save"
   ]
  },
  {
   "cell_type": "code",
   "execution_count": 43,
   "id": "adc28452-dcf4-4a83-ab29-69ae76d2b505",
   "metadata": {
    "pycharm": {
     "name": "#%%\n"
    }
   },
   "outputs": [],
   "source": [
    "predictions = []\n",
    "for i, model in enumerate(final_models):\n",
    "    prediction = h.predict(model, X_predict_dfs[i].dropna())\n",
    "    predictions.append(prediction)\n",
    "\n",
    "for i, prediction in enumerate(predictions):\n",
    "    if not os.path.exists('output/' + stations[i]):\n",
    "        os.mkdir('output/' + stations[i])\n",
    "\n",
    "    prediction.to_csv(\n",
    "        ('output/{}/prediction_next_week_{}.csv'.format(stations[i], date.today().strftime(\"%b-%d-%Y\"))))"
   ]
  }
 ],
 "metadata": {
  "kernelspec": {
   "name": "myenv",
   "language": "python",
   "display_name": "Python (myenv)"
  },
  "language_info": {
   "codemirror_mode": {
    "name": "ipython",
    "version": 3
   },
   "file_extension": ".py",
   "mimetype": "text/x-python",
   "name": "python",
   "nbconvert_exporter": "python",
   "pygments_lexer": "ipython3",
   "version": "3.9.6"
  }
 },
 "nbformat": 4,
 "nbformat_minor": 5
}