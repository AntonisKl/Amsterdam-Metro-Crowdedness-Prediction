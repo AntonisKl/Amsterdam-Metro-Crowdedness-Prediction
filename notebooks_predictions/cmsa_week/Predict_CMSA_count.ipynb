{
 "cells": [
  {
   "cell_type": "markdown",
   "metadata": {},
   "source": [
    "# Predict CMSA count - basic"
   ]
  },
  {
   "cell_type": "markdown",
   "metadata": {},
   "source": [
    "## Preparations"
   ]
  },
  {
   "cell_type": "code",
   "execution_count": 1,
   "metadata": {},
   "outputs": [
    {
     "ename": "CalledProcessError",
     "evalue": "Command 'b'pip install psycopg2-binary\\npip install xgboost\\npip install graphviz \\npip install workalendar\\n'' returned non-zero exit status 1.",
     "output_type": "error",
     "traceback": [
      "\u001B[1;31m---------------------------------------------------------------------------\u001B[0m",
      "\u001B[1;31mCalledProcessError\u001B[0m                        Traceback (most recent call last)",
      "\u001B[1;32m<ipython-input-1-825809e97c7c>\u001B[0m in \u001B[0;36m<module>\u001B[1;34m\u001B[0m\n\u001B[1;32m----> 1\u001B[1;33m \u001B[0mget_ipython\u001B[0m\u001B[1;33m(\u001B[0m\u001B[1;33m)\u001B[0m\u001B[1;33m.\u001B[0m\u001B[0mrun_cell_magic\u001B[0m\u001B[1;33m(\u001B[0m\u001B[1;34m'bash'\u001B[0m\u001B[1;33m,\u001B[0m \u001B[1;34m''\u001B[0m\u001B[1;33m,\u001B[0m \u001B[1;34m'pip install psycopg2-binary\\npip install xgboost\\npip install graphviz \\npip install workalendar'\u001B[0m\u001B[1;33m)\u001B[0m\u001B[1;33m\u001B[0m\u001B[1;33m\u001B[0m\u001B[0m\n\u001B[0m\u001B[0;32m      2\u001B[0m \u001B[1;33m\u001B[0m\u001B[0m\n",
      "\u001B[1;32m~\\anaconda3\\lib\\site-packages\\IPython\\core\\interactiveshell.py\u001B[0m in \u001B[0;36mrun_cell_magic\u001B[1;34m(self, magic_name, line, cell)\u001B[0m\n\u001B[0;32m   2397\u001B[0m             \u001B[1;32mwith\u001B[0m \u001B[0mself\u001B[0m\u001B[1;33m.\u001B[0m\u001B[0mbuiltin_trap\u001B[0m\u001B[1;33m:\u001B[0m\u001B[1;33m\u001B[0m\u001B[1;33m\u001B[0m\u001B[0m\n\u001B[0;32m   2398\u001B[0m                 \u001B[0margs\u001B[0m \u001B[1;33m=\u001B[0m \u001B[1;33m(\u001B[0m\u001B[0mmagic_arg_s\u001B[0m\u001B[1;33m,\u001B[0m \u001B[0mcell\u001B[0m\u001B[1;33m)\u001B[0m\u001B[1;33m\u001B[0m\u001B[1;33m\u001B[0m\u001B[0m\n\u001B[1;32m-> 2399\u001B[1;33m                 \u001B[0mresult\u001B[0m \u001B[1;33m=\u001B[0m \u001B[0mfn\u001B[0m\u001B[1;33m(\u001B[0m\u001B[1;33m*\u001B[0m\u001B[0margs\u001B[0m\u001B[1;33m,\u001B[0m \u001B[1;33m**\u001B[0m\u001B[0mkwargs\u001B[0m\u001B[1;33m)\u001B[0m\u001B[1;33m\u001B[0m\u001B[1;33m\u001B[0m\u001B[0m\n\u001B[0m\u001B[0;32m   2400\u001B[0m             \u001B[1;32mreturn\u001B[0m \u001B[0mresult\u001B[0m\u001B[1;33m\u001B[0m\u001B[1;33m\u001B[0m\u001B[0m\n\u001B[0;32m   2401\u001B[0m \u001B[1;33m\u001B[0m\u001B[0m\n",
      "\u001B[1;32m~\\anaconda3\\lib\\site-packages\\IPython\\core\\magics\\script.py\u001B[0m in \u001B[0;36mnamed_script_magic\u001B[1;34m(line, cell)\u001B[0m\n\u001B[0;32m    140\u001B[0m             \u001B[1;32melse\u001B[0m\u001B[1;33m:\u001B[0m\u001B[1;33m\u001B[0m\u001B[1;33m\u001B[0m\u001B[0m\n\u001B[0;32m    141\u001B[0m                 \u001B[0mline\u001B[0m \u001B[1;33m=\u001B[0m \u001B[0mscript\u001B[0m\u001B[1;33m\u001B[0m\u001B[1;33m\u001B[0m\u001B[0m\n\u001B[1;32m--> 142\u001B[1;33m             \u001B[1;32mreturn\u001B[0m \u001B[0mself\u001B[0m\u001B[1;33m.\u001B[0m\u001B[0mshebang\u001B[0m\u001B[1;33m(\u001B[0m\u001B[0mline\u001B[0m\u001B[1;33m,\u001B[0m \u001B[0mcell\u001B[0m\u001B[1;33m)\u001B[0m\u001B[1;33m\u001B[0m\u001B[1;33m\u001B[0m\u001B[0m\n\u001B[0m\u001B[0;32m    143\u001B[0m \u001B[1;33m\u001B[0m\u001B[0m\n\u001B[0;32m    144\u001B[0m         \u001B[1;31m# write a basic docstring:\u001B[0m\u001B[1;33m\u001B[0m\u001B[1;33m\u001B[0m\u001B[1;33m\u001B[0m\u001B[0m\n",
      "\u001B[1;32m~\\anaconda3\\lib\\site-packages\\decorator.py\u001B[0m in \u001B[0;36mfun\u001B[1;34m(*args, **kw)\u001B[0m\n\u001B[0;32m    229\u001B[0m             \u001B[1;32mif\u001B[0m \u001B[1;32mnot\u001B[0m \u001B[0mkwsyntax\u001B[0m\u001B[1;33m:\u001B[0m\u001B[1;33m\u001B[0m\u001B[1;33m\u001B[0m\u001B[0m\n\u001B[0;32m    230\u001B[0m                 \u001B[0margs\u001B[0m\u001B[1;33m,\u001B[0m \u001B[0mkw\u001B[0m \u001B[1;33m=\u001B[0m \u001B[0mfix\u001B[0m\u001B[1;33m(\u001B[0m\u001B[0margs\u001B[0m\u001B[1;33m,\u001B[0m \u001B[0mkw\u001B[0m\u001B[1;33m,\u001B[0m \u001B[0msig\u001B[0m\u001B[1;33m)\u001B[0m\u001B[1;33m\u001B[0m\u001B[1;33m\u001B[0m\u001B[0m\n\u001B[1;32m--> 231\u001B[1;33m             \u001B[1;32mreturn\u001B[0m \u001B[0mcaller\u001B[0m\u001B[1;33m(\u001B[0m\u001B[0mfunc\u001B[0m\u001B[1;33m,\u001B[0m \u001B[1;33m*\u001B[0m\u001B[1;33m(\u001B[0m\u001B[0mextras\u001B[0m \u001B[1;33m+\u001B[0m \u001B[0margs\u001B[0m\u001B[1;33m)\u001B[0m\u001B[1;33m,\u001B[0m \u001B[1;33m**\u001B[0m\u001B[0mkw\u001B[0m\u001B[1;33m)\u001B[0m\u001B[1;33m\u001B[0m\u001B[1;33m\u001B[0m\u001B[0m\n\u001B[0m\u001B[0;32m    232\u001B[0m     \u001B[0mfun\u001B[0m\u001B[1;33m.\u001B[0m\u001B[0m__name__\u001B[0m \u001B[1;33m=\u001B[0m \u001B[0mfunc\u001B[0m\u001B[1;33m.\u001B[0m\u001B[0m__name__\u001B[0m\u001B[1;33m\u001B[0m\u001B[1;33m\u001B[0m\u001B[0m\n\u001B[0;32m    233\u001B[0m     \u001B[0mfun\u001B[0m\u001B[1;33m.\u001B[0m\u001B[0m__doc__\u001B[0m \u001B[1;33m=\u001B[0m \u001B[0mfunc\u001B[0m\u001B[1;33m.\u001B[0m\u001B[0m__doc__\u001B[0m\u001B[1;33m\u001B[0m\u001B[1;33m\u001B[0m\u001B[0m\n",
      "\u001B[1;32m~\\anaconda3\\lib\\site-packages\\IPython\\core\\magic.py\u001B[0m in \u001B[0;36m<lambda>\u001B[1;34m(f, *a, **k)\u001B[0m\n\u001B[0;32m    185\u001B[0m     \u001B[1;31m# but it's overkill for just that one bit of state.\u001B[0m\u001B[1;33m\u001B[0m\u001B[1;33m\u001B[0m\u001B[1;33m\u001B[0m\u001B[0m\n\u001B[0;32m    186\u001B[0m     \u001B[1;32mdef\u001B[0m \u001B[0mmagic_deco\u001B[0m\u001B[1;33m(\u001B[0m\u001B[0marg\u001B[0m\u001B[1;33m)\u001B[0m\u001B[1;33m:\u001B[0m\u001B[1;33m\u001B[0m\u001B[1;33m\u001B[0m\u001B[0m\n\u001B[1;32m--> 187\u001B[1;33m         \u001B[0mcall\u001B[0m \u001B[1;33m=\u001B[0m \u001B[1;32mlambda\u001B[0m \u001B[0mf\u001B[0m\u001B[1;33m,\u001B[0m \u001B[1;33m*\u001B[0m\u001B[0ma\u001B[0m\u001B[1;33m,\u001B[0m \u001B[1;33m**\u001B[0m\u001B[0mk\u001B[0m\u001B[1;33m:\u001B[0m \u001B[0mf\u001B[0m\u001B[1;33m(\u001B[0m\u001B[1;33m*\u001B[0m\u001B[0ma\u001B[0m\u001B[1;33m,\u001B[0m \u001B[1;33m**\u001B[0m\u001B[0mk\u001B[0m\u001B[1;33m)\u001B[0m\u001B[1;33m\u001B[0m\u001B[1;33m\u001B[0m\u001B[0m\n\u001B[0m\u001B[0;32m    188\u001B[0m \u001B[1;33m\u001B[0m\u001B[0m\n\u001B[0;32m    189\u001B[0m         \u001B[1;32mif\u001B[0m \u001B[0mcallable\u001B[0m\u001B[1;33m(\u001B[0m\u001B[0marg\u001B[0m\u001B[1;33m)\u001B[0m\u001B[1;33m:\u001B[0m\u001B[1;33m\u001B[0m\u001B[1;33m\u001B[0m\u001B[0m\n",
      "\u001B[1;32m~\\anaconda3\\lib\\site-packages\\IPython\\core\\magics\\script.py\u001B[0m in \u001B[0;36mshebang\u001B[1;34m(self, line, cell)\u001B[0m\n\u001B[0;32m    243\u001B[0m             \u001B[0msys\u001B[0m\u001B[1;33m.\u001B[0m\u001B[0mstderr\u001B[0m\u001B[1;33m.\u001B[0m\u001B[0mflush\u001B[0m\u001B[1;33m(\u001B[0m\u001B[1;33m)\u001B[0m\u001B[1;33m\u001B[0m\u001B[1;33m\u001B[0m\u001B[0m\n\u001B[0;32m    244\u001B[0m         \u001B[1;32mif\u001B[0m \u001B[0margs\u001B[0m\u001B[1;33m.\u001B[0m\u001B[0mraise_error\u001B[0m \u001B[1;32mand\u001B[0m \u001B[0mp\u001B[0m\u001B[1;33m.\u001B[0m\u001B[0mreturncode\u001B[0m\u001B[1;33m!=\u001B[0m\u001B[1;36m0\u001B[0m\u001B[1;33m:\u001B[0m\u001B[1;33m\u001B[0m\u001B[1;33m\u001B[0m\u001B[0m\n\u001B[1;32m--> 245\u001B[1;33m             \u001B[1;32mraise\u001B[0m \u001B[0mCalledProcessError\u001B[0m\u001B[1;33m(\u001B[0m\u001B[0mp\u001B[0m\u001B[1;33m.\u001B[0m\u001B[0mreturncode\u001B[0m\u001B[1;33m,\u001B[0m \u001B[0mcell\u001B[0m\u001B[1;33m,\u001B[0m \u001B[0moutput\u001B[0m\u001B[1;33m=\u001B[0m\u001B[0mout\u001B[0m\u001B[1;33m,\u001B[0m \u001B[0mstderr\u001B[0m\u001B[1;33m=\u001B[0m\u001B[0merr\u001B[0m\u001B[1;33m)\u001B[0m\u001B[1;33m\u001B[0m\u001B[1;33m\u001B[0m\u001B[0m\n\u001B[0m\u001B[0;32m    246\u001B[0m \u001B[1;33m\u001B[0m\u001B[0m\n\u001B[0;32m    247\u001B[0m     \u001B[1;32mdef\u001B[0m \u001B[0m_run_script\u001B[0m\u001B[1;33m(\u001B[0m\u001B[0mself\u001B[0m\u001B[1;33m,\u001B[0m \u001B[0mp\u001B[0m\u001B[1;33m,\u001B[0m \u001B[0mcell\u001B[0m\u001B[1;33m,\u001B[0m \u001B[0mto_close\u001B[0m\u001B[1;33m)\u001B[0m\u001B[1;33m:\u001B[0m\u001B[1;33m\u001B[0m\u001B[1;33m\u001B[0m\u001B[0m\n",
      "\u001B[1;31mCalledProcessError\u001B[0m: Command 'b'pip install psycopg2-binary\\npip install xgboost\\npip install graphviz \\npip install workalendar\\n'' returned non-zero exit status 1."
     ]
    }
   ],
   "source": [
    "%%capture\n",
    "get_ipython().run_cell_magic('bash', '', 'pip install psycopg2-binary\\npip install xgboost\\npip install graphviz \\npip install workalendar')"
   ]
  },
  {
   "cell_type": "code",
   "execution_count": 2,
   "metadata": {},
   "outputs": [
    {
     "ename": "ModuleNotFoundError",
     "evalue": "No module named 'geopandas'",
     "output_type": "error",
     "traceback": [
      "\u001B[1;31m---------------------------------------------------------------------------\u001B[0m",
      "\u001B[1;31mModuleNotFoundError\u001B[0m                       Traceback (most recent call last)",
      "\u001B[1;32m<ipython-input-2-6dbc58adffa7>\u001B[0m in \u001B[0;36m<module>\u001B[1;34m\u001B[0m\n\u001B[0;32m      1\u001B[0m \u001B[1;32mimport\u001B[0m \u001B[0mpandas\u001B[0m \u001B[1;32mas\u001B[0m \u001B[0mpd\u001B[0m\u001B[1;33m\u001B[0m\u001B[1;33m\u001B[0m\u001B[0m\n\u001B[1;32m----> 2\u001B[1;33m \u001B[1;32mimport\u001B[0m \u001B[0mgeopandas\u001B[0m \u001B[1;32mas\u001B[0m \u001B[0mgpd\u001B[0m\u001B[1;33m\u001B[0m\u001B[1;33m\u001B[0m\u001B[0m\n\u001B[0m\u001B[0;32m      3\u001B[0m \u001B[1;32mimport\u001B[0m \u001B[0mnumpy\u001B[0m \u001B[1;32mas\u001B[0m \u001B[0mnp\u001B[0m\u001B[1;33m\u001B[0m\u001B[1;33m\u001B[0m\u001B[0m\n\u001B[0;32m      4\u001B[0m \u001B[1;32mimport\u001B[0m \u001B[0mos\u001B[0m\u001B[1;33m\u001B[0m\u001B[1;33m\u001B[0m\u001B[0m\n\u001B[0;32m      5\u001B[0m \u001B[1;33m\u001B[0m\u001B[0m\n",
      "\u001B[1;31mModuleNotFoundError\u001B[0m: No module named 'geopandas'"
     ]
    }
   ],
   "source": [
    "import pandas as pd\n",
    "import geopandas as gpd\n",
    "import numpy as np\n",
    "import os\n",
    "\n",
    "from sqlalchemy import create_engine\n",
    "import env\n",
    "\n",
    "from datetime import datetime, timedelta, date\n",
    "import pytz\n",
    "from workalendar.europe import Netherlands\n",
    "\n",
    "from sklearn.metrics import mean_squared_error, mean_absolute_error, mean_absolute_error\n",
    "from sklearn import linear_model\n",
    "import xgboost as xgb\n",
    "from scipy.signal import savgol_filter\n",
    "\n",
    "import helpers_cmsa as h \n",
    "import importlib\n",
    "\n",
    "from pyspark.sql import SparkSession\n",
    "from pyspark.sql.functions import substring, length, col, expr\n",
    "from pyspark.sql.types import *\n",
    "\n",
    "import requests # for API covid"
   ]
  },
  {
   "cell_type": "code",
   "execution_count": null,
   "metadata": {},
   "outputs": [],
   "source": [
    "import matplotlib\n",
    "import matplotlib.pyplot as plt\n",
    "import matplotlib.patches as mpatches\n",
    "%matplotlib inline\n",
    "\n",
    "import graphviz"
   ]
  },
  {
   "cell_type": "code",
   "execution_count": null,
   "metadata": {},
   "outputs": [],
   "source": [
    "pd.set_option('mode.chained_assignment', None)"
   ]
  },
  {
   "cell_type": "code",
   "execution_count": null,
   "metadata": {},
   "outputs": [],
   "source": [
    "spark = SparkSession \\\n",
    "    .builder \\\n",
    "    .getOrCreate()"
   ]
  },
  {
   "cell_type": "markdown",
   "metadata": {},
   "source": [
    "## Settings"
   ]
  },
  {
   "cell_type": "code",
   "execution_count": null,
   "metadata": {},
   "outputs": [],
   "source": [
    "# create engine for SQL queries\n",
    "engine = create_engine(\"postgresql://{}:{}@{}:{}/{}\".format(env.DATABASE_USERNAME_AZ, \n",
    "                                                            env.DATABASE_PASSWORD_AZ, \n",
    "                                                            \"igordb.postgres.database.azure.com\", \n",
    "                                                            5432, \n",
    "                                                            \"igor\"),\n",
    "                       connect_args={'sslmode':'require'})"
   ]
  },
  {
   "cell_type": "code",
   "execution_count": null,
   "metadata": {},
   "outputs": [],
   "source": [
    "# select moment to start for operational forecast # CHANGE EVERY WEEK\n",
    "start_prediction = pd.to_datetime('2021-08-16 00:00:00').tz_localize(\"Europe/Amsterdam\")\n",
    "my_week = 33"
   ]
  },
  {
   "cell_type": "code",
   "execution_count": null,
   "metadata": {},
   "outputs": [],
   "source": [
    "# how many days to predict for operational forecast\n",
    "predict_days = 7"
   ]
  },
  {
   "cell_type": "code",
   "execution_count": null,
   "metadata": {},
   "outputs": [],
   "source": [
    "# input for dummy model: how many 15mins to shift realization\n",
    "my_shift = 4*24*7  "
   ]
  },
  {
   "cell_type": "code",
   "execution_count": null,
   "metadata": {},
   "outputs": [],
   "source": [
    "# input for starting of learnset \n",
    "start_learnset = pd.to_datetime('2020-09-01 00:00:00').tz_localize(\"Europe/Amsterdam\")"
   ]
  },
  {
   "cell_type": "code",
   "execution_count": null,
   "metadata": {},
   "outputs": [],
   "source": [
    "# select which locations to forecast\n",
    "my_locations = [\n",
    "                'GAVM-02-Stadhouderskade', # Vondelpark\n",
    "                'GAAM-01-AlbertCuypstraat',  \n",
    "                'CMSA-GAKH-01',  # Kalverstraat, previously 'GKS-01-Kalverstraat'\n",
    "                'GACM-02' # Nieuwendijk\n",
    "               ]  "
   ]
  },
  {
   "cell_type": "code",
   "execution_count": null,
   "metadata": {},
   "outputs": [],
   "source": [
    "# set versions\n",
    "current_model_version = 'xg_0_3'\n",
    "current_data_version = \"2_0\"  # from 09/02/2021"
   ]
  },
  {
   "cell_type": "code",
   "execution_count": null,
   "metadata": {},
   "outputs": [],
   "source": [
    "#covid_url = 'https://covidtrackerapi.bsg.ox.ac.uk/api/v2/stringency/date-range/2020-09-01/2021-07-12' # change \n",
    "\n",
    "today = pd.to_datetime(\"today\")\n",
    "today_str = str(today.year) + \"-\" + str(today.month) + \"-\" + str(today.day)\n",
    "covid_url = 'https://covidtrackerapi.bsg.ox.ac.uk/api/v2/stringency/date-range/2020-09-01/' + today_str"
   ]
  },
  {
   "cell_type": "code",
   "execution_count": null,
   "metadata": {},
   "outputs": [],
   "source": [
    "# define vacations\n",
    "kerst_19 = pd.DataFrame(data = {'date': pd.date_range(date(2019, 12, 21), periods = 7*2 + 2, freq='1d')})\n",
    "voorjaar_20 = pd.DataFrame(data = {'date': pd.date_range(date(2020, 2, 15), periods = 9, freq='1d')})\n",
    "mei_20 = pd.DataFrame(data = {'date': pd.date_range(date(2020, 4, 25), periods = 9, freq='1d')})\n",
    "zomer_20 = pd.DataFrame(data = {'date': pd.date_range(date(2020, 7, 4), periods = 7*6 + 2, freq='1d')})\n",
    "herfst_20 = pd.DataFrame(data = {'date': pd.date_range(date(2020, 10, 10), periods = 9, freq='1d')})\n",
    "kerst_20 = pd.DataFrame(data = {'date': pd.date_range(date(2020, 12, 19), periods = 7*2 + 2, freq='1d')})\n",
    "voorjaar_21 = pd.DataFrame(data = {'date': pd.date_range(date(2021, 2, 20), periods = 9, freq='1d')})\n",
    "mei_21 = pd.DataFrame(data = {'date': pd.date_range(date(2021, 5, 1), periods = 9, freq='1d')})\n",
    "zomer_21 = pd.DataFrame(data = {'date': pd.date_range(date(2021, 7, 10), periods = 7*6 + 2, freq='1d')})\n",
    "herfst_21 = pd.DataFrame(data = {'date': pd.date_range(date(2021, 10, 16), periods = 9, freq='1d')})\n",
    "kerst_21 = pd.DataFrame(data = {'date': pd.date_range(date(2021, 12, 25), periods = 7*2 + 2, freq='1d')})"
   ]
  },
  {
   "cell_type": "code",
   "execution_count": null,
   "metadata": {},
   "outputs": [],
   "source": [
    "# selection of features to include for models\n",
    "x_cols = ['weekday__5', 'weekday__6', \n",
    "          'weekend',\n",
    "          'weekday__0', 'weekday__1', 'weekday__2', 'weekday__3','weekday__4',\n",
    "          'sin_time', 'cos_time',\n",
    "          'hour__0', 'hour__1', 'hour__2', 'hour__3', 'hour__4', 'hour__5', 'hour__6', 'hour__7', \n",
    "          'hour__8', 'hour__9', 'hour__10', 'hour__11', 'hour__12', 'hour__13', 'hour__14', 'hour__15', \n",
    "          'hour__16', 'hour__17', 'hour__18', 'hour__19', 'hour__20', 'hour__21', 'hour__22', 'hour__23',\n",
    "          'stringency', 'shopping_restricted', #'stringency_legacy',\n",
    "          'wind_speed', 'temperature', 'global_radiation', 'cloud_cover',\n",
    "          'vacation_dummy',\n",
    "          'holiday_dummy'\n",
    "         ]  "
   ]
  },
  {
   "cell_type": "markdown",
   "metadata": {},
   "source": [
    "## Main"
   ]
  },
  {
   "cell_type": "markdown",
   "metadata": {},
   "source": [
    "### 1. Get data"
   ]
  },
  {
   "cell_type": "code",
   "execution_count": null,
   "metadata": {},
   "outputs": [],
   "source": [
    "print('Start loading raw data') "
   ]
  },
  {
   "cell_type": "code",
   "execution_count": null,
   "metadata": {},
   "outputs": [],
   "source": [
    "cmsa_query = \"SELECT * FROM ingested.cmsa limit 3000000\"\n",
    "cmsa_df_raw = pd.read_sql_query(cmsa_query, con = engine)"
   ]
  },
  {
   "cell_type": "code",
   "execution_count": null,
   "metadata": {},
   "outputs": [],
   "source": [
    "#cmsa_df_raw['location_id'].unique() "
   ]
  },
  {
   "cell_type": "code",
   "execution_count": null,
   "metadata": {},
   "outputs": [],
   "source": [
    "covid_df_raw = pd.DataFrame(requests.get(url = covid_url).json()['data'])"
   ]
  },
  {
   "cell_type": "code",
   "execution_count": null,
   "metadata": {},
   "outputs": [],
   "source": [
    "holidays_data_raw = Netherlands().holidays(2020) + Netherlands().holidays(2021) "
   ]
  },
  {
   "cell_type": "code",
   "execution_count": null,
   "metadata": {},
   "outputs": [],
   "source": [
    "vacation_df_raw = kerst_19.append([voorjaar_20, mei_20, zomer_20, herfst_20, kerst_20,\n",
    "                                   voorjaar_21, mei_21, zomer_21, herfst_21, kerst_21])"
   ]
  },
  {
   "cell_type": "code",
   "execution_count": null,
   "metadata": {},
   "outputs": [],
   "source": [
    "knmi_obs = spark.read.format(\"json\").load(\"s3a://knmi-knmi/topics/knmi-observations/2021/06/*/*\") # (complete history stored in 06/07)\n",
    "knmi_obs_df_raw = knmi_obs.toPandas()"
   ]
  },
  {
   "cell_type": "code",
   "execution_count": null,
   "metadata": {},
   "outputs": [],
   "source": [
    "knmi_pred6 = spark.read.format(\"json\").option(\"header\", \"true\").load(\"s3a://knmi-knmi/topics/knmi/2021/06/*/*.json.gz\", sep = \";\")\n",
    "knmi_pred7 = spark.read.format(\"json\").option(\"header\", \"true\").load(\"s3a://knmi-knmi/topics/knmi/2021/07/*/*.json.gz\", sep = \";\")\n",
    "knmi_pred8 = spark.read.format(\"json\").option(\"header\", \"true\").load(\"s3a://knmi-knmi/topics/knmi/2021/08/*/*.json.gz\", sep = \";\")\n",
    "knmi_pred = knmi_pred6.union(knmi_pred7)\n",
    "knmi_pred = knmi_pred.union(knmi_pred8)\n",
    "knmi_pred_df_raw = knmi_pred.limit(5000000).toPandas()"
   ]
  },
  {
   "cell_type": "markdown",
   "metadata": {},
   "source": [
    "### 2. Prepare data"
   ]
  },
  {
   "cell_type": "code",
   "execution_count": null,
   "metadata": {},
   "outputs": [],
   "source": [
    "print('Start pre-processing data')"
   ]
  },
  {
   "cell_type": "code",
   "execution_count": null,
   "metadata": {},
   "outputs": [],
   "source": [
    "#importlib.reload(h)"
   ]
  },
  {
   "cell_type": "code",
   "execution_count": null,
   "metadata": {},
   "outputs": [],
   "source": [
    "cmsa_df = h.preprocess_cmsa_data(cmsa_df_raw, my_locations, start_learnset) "
   ]
  },
  {
   "cell_type": "code",
   "execution_count": null,
   "metadata": {},
   "outputs": [],
   "source": [
    "covid_df = h.preprocess_covid_data_api(covid_df_raw)"
   ]
  },
  {
   "cell_type": "code",
   "execution_count": null,
   "metadata": {},
   "outputs": [],
   "source": [
    "holiday_df = h.preprocess_holidays_data(holidays_data_raw)"
   ]
  },
  {
   "cell_type": "code",
   "execution_count": null,
   "metadata": {},
   "outputs": [],
   "source": [
    "vacation_df = h.preprocess_vacation_data(vacation_df_raw)"
   ]
  },
  {
   "cell_type": "code",
   "execution_count": null,
   "metadata": {},
   "outputs": [],
   "source": [
    "knmi_obs_df = h.preprocess_knmi_data(knmi_obs_df_raw, start_learnset) \n",
    "knmi_pred_df = h.preprocess_metpre_data(knmi_pred_df_raw, start_learnset) \n",
    "\n",
    "knmi_df = h.preprocess_weather_data(knmi_obs_df, knmi_pred_df)  # later add above functions to this function"
   ]
  },
  {
   "cell_type": "markdown",
   "metadata": {},
   "source": [
    "### 3. Clean data"
   ]
  },
  {
   "cell_type": "code",
   "execution_count": null,
   "metadata": {},
   "outputs": [],
   "source": [
    "print('Start cleaning data')"
   ]
  },
  {
   "cell_type": "code",
   "execution_count": null,
   "metadata": {},
   "outputs": [],
   "source": [
    "cmsa_df_clean = h.clean_cmsa_data(cmsa_df)"
   ]
  },
  {
   "cell_type": "code",
   "execution_count": null,
   "metadata": {},
   "outputs": [],
   "source": [
    "cmsa_df_clean = cmsa_df_clean[(cmsa_df_clean.index < '2021-08-08 00:00:00') | (cmsa_df_clean.index > '2021-08-09 12:00:00')] # TEMPORARY"
   ]
  },
  {
   "cell_type": "code",
   "execution_count": null,
   "metadata": {},
   "outputs": [],
   "source": [
    "fig, ax = plt.subplots(1, figsize = (12,3))\n",
    "cmsa_df_clean.tail(1000).plot(ax=ax)"
   ]
  },
  {
   "cell_type": "code",
   "execution_count": null,
   "metadata": {},
   "outputs": [],
   "source": [
    "# Import CSV data as back-up\n",
    "cmsa_vp = pd.read_csv('data/Stadhouderskade Totaal Aantal passanten_per 15 minuten-data-2021-08-02 14_37_33.csv')\n",
    "cmsa_ac = pd.read_csv('data/Albert Cuyp Totaal Aantal passanten_per 15 minuten-data-2021-08-02 14_36_51.csv')\n",
    "cmsa_ws = pd.read_csv('data/Winkelstraten Totaal aantal passanten alle sensoren-data-as-seriestocolumns-2021-08-02 14_38_31-Corrected.csv', sep = \";\")"
   ]
  },
  {
   "cell_type": "code",
   "execution_count": null,
   "metadata": {},
   "outputs": [],
   "source": [
    "cmsa_df_clean_fill = h.fill_cmsa_gaps_csv(cmsa_df_clean, cmsa_vp, cmsa_ac, cmsa_ws, start_learnset)\n",
    "# 1: database data used, 0: csv data used, -1: value missing in both, NaN used"
   ]
  },
  {
   "cell_type": "code",
   "execution_count": null,
   "metadata": {},
   "outputs": [],
   "source": [
    "fig, ax = plt.subplots(1, figsize = (12,3))\n",
    "cmsa_df_clean_fill.tail(1000).plot(ax=ax)"
   ]
  },
  {
   "cell_type": "code",
   "execution_count": null,
   "metadata": {},
   "outputs": [],
   "source": [
    "plot_loc = cmsa_df_clean.columns[0]\n",
    "print(plot_loc)\n",
    "fig, ax = plt.subplots(1, figsize = (12,3))\n",
    "cmsa_df_clean_fill.tail(1000).plot(y = plot_loc, ax = ax, color = 'green', label = 'csv')\n",
    "cmsa_df_clean.tail(1000).plot(y = plot_loc, ax = ax, color = 'orange', label = 'database')"
   ]
  },
  {
   "cell_type": "markdown",
   "metadata": {},
   "source": [
    "### 4. Create model dataframes"
   ]
  },
  {
   "cell_type": "code",
   "execution_count": null,
   "metadata": {},
   "outputs": [],
   "source": [
    "df_y_train = cmsa_df_clean_fill.copy()"
   ]
  },
  {
   "cell_type": "code",
   "execution_count": null,
   "metadata": {},
   "outputs": [],
   "source": [
    "lag_df = df_y_train.shift(my_shift, freq = \"infer\").add_prefix('lag_')  # create lagged features\n",
    "lag_df2 = df_y_train.shift(2*my_shift, freq = \"infer\").add_prefix('lag2_')"
   ]
  },
  {
   "cell_type": "code",
   "execution_count": null,
   "metadata": {},
   "outputs": [],
   "source": [
    "df_y_predict = h.get_future_df(start_prediction, predict_days)"
   ]
  },
  {
   "cell_type": "code",
   "execution_count": null,
   "metadata": {},
   "outputs": [],
   "source": [
    "df_X_train, x_cols_final = h.get_variables_df(df_y_train, covid_df, holiday_df, vacation_df, \n",
    "                                              knmi_df, x_cols, lag_df, lag_df2)"
   ]
  },
  {
   "cell_type": "code",
   "execution_count": null,
   "metadata": {},
   "outputs": [],
   "source": [
    "df_X_predict, x_cols_final = h.get_variables_df(df_y_predict, covid_df, holiday_df, vacation_df, \n",
    "                                                knmi_df, x_cols, lag_df, lag_df2)"
   ]
  },
  {
   "cell_type": "code",
   "execution_count": null,
   "metadata": {},
   "outputs": [],
   "source": [
    "df_X_train = df_X_train[~df_y_train.isna().any(axis = 1)] # remove incomplete data\n",
    "df_y_train = df_y_train[~df_y_train.isna().any(axis = 1)] "
   ]
  },
  {
   "cell_type": "markdown",
   "metadata": {},
   "source": [
    "### 5. Model"
   ]
  },
  {
   "cell_type": "code",
   "execution_count": null,
   "metadata": {},
   "outputs": [],
   "source": [
    "print('Start modelling')"
   ]
  },
  {
   "cell_type": "code",
   "execution_count": null,
   "metadata": {},
   "outputs": [],
   "source": [
    "# Run linear regression model\n",
    "#for location in my_locations:\n",
    "#    df_y_predict = h.train_predict_model_lm(df_y_train, df_X_train, df_y_predict, df_X_predict, location)"
   ]
  },
  {
   "cell_type": "markdown",
   "metadata": {},
   "source": [
    "##### Current model of choice"
   ]
  },
  {
   "cell_type": "code",
   "execution_count": null,
   "metadata": {},
   "outputs": [],
   "source": [
    "# Run XGBoost model\n",
    "for location in my_locations:\n",
    "    df_y_predict = h.train_predict_model_xg(df_y_train, df_X_train, df_y_predict, df_X_predict, location)"
   ]
  },
  {
   "cell_type": "markdown",
   "metadata": {},
   "source": [
    "### 6. Prepare output"
   ]
  },
  {
   "cell_type": "code",
   "execution_count": null,
   "metadata": {},
   "outputs": [],
   "source": [
    "print('Start preparing data')"
   ]
  },
  {
   "cell_type": "code",
   "execution_count": null,
   "metadata": {},
   "outputs": [],
   "source": [
    "final_df = h.prepare_final_dataframe(df_y_predict)"
   ]
  },
  {
   "cell_type": "code",
   "execution_count": null,
   "metadata": {},
   "outputs": [],
   "source": [
    "final_df_api = h.create_api_output(final_df, cmsa_df_raw, start_prediction, predict_days)"
   ]
  },
  {
   "cell_type": "code",
   "execution_count": null,
   "metadata": {},
   "outputs": [],
   "source": [
    "final_df_store = h.add_versions_to_store(final_df_api, current_model_version, current_data_version)"
   ]
  },
  {
   "cell_type": "markdown",
   "metadata": {},
   "source": [
    "### 7. Store data"
   ]
  },
  {
   "cell_type": "code",
   "execution_count": null,
   "metadata": {},
   "outputs": [],
   "source": [
    "#print('Start storing data')"
   ]
  },
  {
   "cell_type": "code",
   "execution_count": null,
   "metadata": {},
   "outputs": [],
   "source": [
    "#final_df_api.to_sql('ingested.cmsa_predictions', con = engine, if_exists = 'replace', index = False) "
   ]
  },
  {
   "cell_type": "code",
   "execution_count": null,
   "metadata": {},
   "outputs": [],
   "source": [
    "#final_df_store.to_sql('ingested.cmsa_prediction_store', con = engine, if_exists = 'append', index = False)  "
   ]
  },
  {
   "cell_type": "code",
   "execution_count": null,
   "metadata": {},
   "outputs": [],
   "source": [
    "#print('Finished storing data')"
   ]
  },
  {
   "cell_type": "markdown",
   "metadata": {},
   "source": [
    "### 8. Check prediction"
   ]
  },
  {
   "cell_type": "code",
   "execution_count": null,
   "metadata": {},
   "outputs": [],
   "source": [
    "final_df_store.head(2)"
   ]
  },
  {
   "cell_type": "code",
   "execution_count": null,
   "metadata": {},
   "outputs": [],
   "source": [
    "final_df_store.tail(2)"
   ]
  },
  {
   "cell_type": "code",
   "execution_count": null,
   "metadata": {},
   "outputs": [],
   "source": [
    "# Prepare dataframe\n",
    "df_plot_pred = final_df_api.pivot_table(index = [\"datetime\"], columns = \"location_id\", values = \"total_count_predict\")\n",
    "df_plot_actual = df_y_train.tail(21*96)\n",
    "df_plot = pd.merge(df_plot_actual, df_plot_pred, \n",
    "                   left_index = True, right_index = True, how = 'outer', suffixes = [\"\", \"_prediction\"])"
   ]
  },
  {
   "cell_type": "code",
   "execution_count": null,
   "metadata": {},
   "outputs": [],
   "source": [
    "# Get thresholds\n",
    "df_static = pd.read_sql_query(\"SELECT * FROM ingested.static_cmsa_sensor limit 3000\", con = engine)"
   ]
  },
  {
   "cell_type": "markdown",
   "metadata": {},
   "source": [
    "#### First impression"
   ]
  },
  {
   "cell_type": "code",
   "execution_count": null,
   "metadata": {},
   "outputs": [],
   "source": [
    "# Plot 3 weeks realized + 1 week prediction  \n",
    "for location in my_locations:    \n",
    "    fig, ax = plt.subplots(1, figsize = (12,4))\n",
    "    df_plot.plot(y=location, ax = ax, color = 'black')\n",
    "    df_plot.plot(y=location + '_prediction', ax = ax, color = 'grey')\n",
    "    thresh_low = df_static['crowd_threshold_low'][df_static['objectnummer'] == location].item() \n",
    "    thresh_high = df_static['crowd_threshold_high'][df_static['objectnummer'] == location].item() \n",
    "    plt.axhspan(0, thresh_low, color= 'green', alpha = 0.1)\n",
    "    plt.axhspan(thresh_low+1, thresh_high, color= 'yellow', alpha = 0.1)\n",
    "    plt.axhspan(thresh_high+1, thresh_high+200, color= 'red', alpha = 0.1)\n",
    "    plt.legend(bbox_to_anchor=(1,1))"
   ]
  },
  {
   "cell_type": "markdown",
   "metadata": {},
   "source": [
    "### 9. Create input prediction report"
   ]
  },
  {
   "cell_type": "markdown",
   "metadata": {},
   "source": [
    "#### Get report graphs"
   ]
  },
  {
   "cell_type": "code",
   "execution_count": null,
   "metadata": {},
   "outputs": [],
   "source": [
    "# Prepare complete dataframe\n",
    "df_plot_wk = df_plot_pred.reset_index()\n",
    "\n",
    "df_plot_ac_wk = df_y_train[(df_y_train.index >= start_prediction - timedelta(days = 21)) & (df_y_train.index < start_prediction)]\n",
    "df_plot_ac_wk = df_plot_ac_wk.reset_index()\n",
    "\n",
    "df_plot_all = pd.concat([df_plot_ac_wk, df_plot_wk], axis = 0).reset_index(drop=True)"
   ]
  },
  {
   "cell_type": "code",
   "execution_count": null,
   "metadata": {},
   "outputs": [],
   "source": [
    "# Add datetime indications \n",
    "df_plot_all['week'] = df_plot_all['datetime'].dt.isocalendar().week\n",
    "df_plot_all['weekday'] = df_plot_all['datetime'].dt.weekday"
   ]
  },
  {
   "cell_type": "code",
   "execution_count": null,
   "metadata": {},
   "outputs": [],
   "source": [
    "# Create separate dataframes for week and weekend\n",
    "df_plot_dw = df_plot_all[df_plot_all['weekday'] < 5].reset_index(drop=True) # Monday-Friday\n",
    "df_plot_we = df_plot_all[df_plot_all['weekday'] > 4].reset_index(drop=True) # Saturday-Sunday"
   ]
  },
  {
   "cell_type": "code",
   "execution_count": null,
   "metadata": {},
   "outputs": [],
   "source": [
    "# Get amount per day\n",
    "df_plot_dw_g = df_plot_dw.groupby('week').sum() / 5  \n",
    "df_plot_we_g = df_plot_we.groupby('week').sum() / 2 "
   ]
  },
  {
   "cell_type": "code",
   "execution_count": null,
   "metadata": {},
   "outputs": [],
   "source": [
    "df_plot_dw_g = df_plot_dw_g.reset_index() \n",
    "df_plot_we_g = df_plot_we_g.reset_index() "
   ]
  },
  {
   "cell_type": "code",
   "execution_count": null,
   "metadata": {},
   "outputs": [],
   "source": [
    "# Determine colors in graph\n",
    "df_plot_dw_g['color'] = 'green'\n",
    "df_plot_dw_g['color'][df_plot_dw_g['week'] == my_week] = 'lightgreen'\n",
    "df_plot_we_g['color'] = 'green'\n",
    "df_plot_we_g['color'][df_plot_we_g['week'] == my_week] = 'lightgreen'"
   ]
  },
  {
   "cell_type": "code",
   "execution_count": null,
   "metadata": {},
   "outputs": [],
   "source": [
    "plt.rcParams[\"axes.axisbelow\"] = True\n",
    "plt.rcParams.update({'axes.titlesize': 14,\n",
    "                     'axes.labelsize': 14, 'xtick.labelsize': 14, 'ytick.labelsize': 14,\n",
    "                     'axes.labelpad': 8.0\n",
    "                    })"
   ]
  },
  {
   "cell_type": "code",
   "execution_count": null,
   "metadata": {},
   "outputs": [],
   "source": [
    "save_date = date.today().strftime(\"%Y%m%d\") + \"_\""
   ]
  },
  {
   "cell_type": "code",
   "execution_count": null,
   "metadata": {},
   "outputs": [],
   "source": [
    "for col in my_locations: \n",
    "    \n",
    "    fig, (ax1, ax2) = plt.subplots(1, 2, figsize = (11,4), dpi = 100, frameon = False, sharey = True, constrained_layout = True)\n",
    "\n",
    "    fig.suptitle(col, fontsize = 18)\n",
    "    \n",
    "    ax1.bar(x = df_plot_dw_g['week'], height = df_plot_dw_g[col], color = df_plot_dw_g['color'])\n",
    "    ax1.set_title('Doordeweeks (ma-vr)')\n",
    "    ax1.set_xlabel(\"Week\")\n",
    "    ax1.set_ylabel(\"Aantal CMSA counts per dag\")\n",
    "    ax1.spines['right'].set_visible(False)\n",
    "    ax1.spines['top'].set_visible(False)\n",
    "    ax1.grid(axis = 'y', color = 'lightgrey')\n",
    "\n",
    "    ax2.bar(x = df_plot_we_g['week'], height = df_plot_we_g[col], color = df_plot_we_g['color'])\n",
    "    ax2.set_title('Weekend (za-zo)')\n",
    "    ax2.spines['right'].set_visible(False)\n",
    "    ax2.spines['top'].set_visible(False)\n",
    "    ax2.grid(axis = 'y', color = 'lightgrey')\n",
    "    ax2.set_xlabel(\"Week\")\n",
    "    \n",
    "    gemeten = mpatches.Patch(color='green', label='Gemeten')\n",
    "    voorspelling = mpatches.Patch(color='lightgreen', label='Voorspelling')\n",
    "    plt.legend(handles=[gemeten, voorspelling], bbox_to_anchor=(1.2, 0.5, 0.5, 0.5))\n",
    "\n",
    "    my_filename = \"output/weekly_report_csma_prediction_\" + save_date + col + \".png\" \n",
    "        \n",
    "    plt.savefig(my_filename, bbox_inches='tight')\n",
    "    plt.show()"
   ]
  },
  {
   "cell_type": "code",
   "execution_count": null,
   "metadata": {},
   "outputs": [],
   "source": [
    "# Store (summed) prediction data for evaluation\n",
    "df_plot_dw_g.to_csv('output/prediction_dw_week' + str(my_week) + '.csv')\n",
    "df_plot_we_g.to_csv('output/prediction_we_week' + str(my_week) + '.csv')\n",
    "df_y_predict.to_csv('output/prediction_all_week' + str(my_week) + '.csv')"
   ]
  },
  {
   "cell_type": "markdown",
   "metadata": {},
   "source": [
    "#### Get report max ( & thresholds)"
   ]
  },
  {
   "cell_type": "code",
   "execution_count": null,
   "metadata": {},
   "outputs": [],
   "source": [
    "# Add linear regression model for extra info on peaks\n",
    "for location in my_locations:\n",
    "    df_y_predict = h.train_predict_model_lm(df_y_train, df_X_train, df_y_predict, df_X_predict, location)"
   ]
  },
  {
   "cell_type": "code",
   "execution_count": null,
   "metadata": {},
   "outputs": [],
   "source": [
    "#df_y_predict.max()"
   ]
  },
  {
   "cell_type": "code",
   "execution_count": null,
   "metadata": {},
   "outputs": [],
   "source": [
    "#df_y_predict.idxmax()"
   ]
  },
  {
   "cell_type": "markdown",
   "metadata": {},
   "source": [
    "##### stadhouderskade"
   ]
  },
  {
   "cell_type": "code",
   "execution_count": null,
   "metadata": {},
   "outputs": [],
   "source": [
    "loc = my_locations[0]"
   ]
  },
  {
   "cell_type": "code",
   "execution_count": null,
   "metadata": {},
   "outputs": [],
   "source": [
    "print(df_static[['crowd_threshold_low', 'crowd_threshold_high']][df_static['objectnummer'] == loc])\n",
    "pd.concat([df_y_predict[['predict_xg_' + loc, 'predict_lm_' + loc]].nlargest(2, columns = 'predict_lm_' + loc) ,\n",
    "          df_y_predict[['predict_xg_' + loc, 'predict_lm_' + loc]].nlargest(2, columns = 'predict_xg_' + loc)])"
   ]
  },
  {
   "cell_type": "markdown",
   "metadata": {},
   "source": [
    "##### albert cuyp"
   ]
  },
  {
   "cell_type": "code",
   "execution_count": null,
   "metadata": {},
   "outputs": [],
   "source": [
    "loc = my_locations[1]"
   ]
  },
  {
   "cell_type": "code",
   "execution_count": null,
   "metadata": {},
   "outputs": [],
   "source": [
    "print(df_static[['crowd_threshold_low', 'crowd_threshold_high']][df_static['objectnummer'] == loc])\n",
    "pd.concat([df_y_predict[['predict_xg_' + loc, 'predict_lm_' + loc]].nlargest(2, columns = 'predict_lm_' + loc) ,\n",
    "          df_y_predict[['predict_xg_' + loc, 'predict_lm_' + loc]].nlargest(2, columns = 'predict_xg_' + loc)])  "
   ]
  },
  {
   "cell_type": "markdown",
   "metadata": {},
   "source": [
    "##### Kalverstraat"
   ]
  },
  {
   "cell_type": "code",
   "execution_count": null,
   "metadata": {},
   "outputs": [],
   "source": [
    "loc = my_locations[2]"
   ]
  },
  {
   "cell_type": "code",
   "execution_count": null,
   "metadata": {},
   "outputs": [],
   "source": [
    "print(df_static[['crowd_threshold_low', 'crowd_threshold_high']][df_static['objectnummer'] == loc])\n",
    "pd.concat([df_y_predict[['predict_xg_' + loc, 'predict_lm_' + loc]].nlargest(2, columns = 'predict_lm_' + loc) ,\n",
    "          df_y_predict[['predict_xg_' + loc, 'predict_lm_' + loc]].nlargest(2, columns = 'predict_xg_' + loc)])    "
   ]
  },
  {
   "cell_type": "markdown",
   "metadata": {},
   "source": [
    "##### Nieuwendijk"
   ]
  },
  {
   "cell_type": "code",
   "execution_count": null,
   "metadata": {},
   "outputs": [],
   "source": [
    "loc = my_locations[3]"
   ]
  },
  {
   "cell_type": "code",
   "execution_count": null,
   "metadata": {},
   "outputs": [],
   "source": [
    "print(df_static[['crowd_threshold_low', 'crowd_threshold_high']][df_static['objectnummer'] == loc])\n",
    "pd.concat([df_y_predict[['predict_xg_' + loc, 'predict_lm_' + loc]].nlargest(2, columns = 'predict_lm_' + loc) ,\n",
    "          df_y_predict[['predict_xg_' + loc, 'predict_lm_' + loc]].nlargest(2, columns = 'predict_xg_' + loc)])"
   ]
  },
  {
   "cell_type": "markdown",
   "metadata": {},
   "source": [
    "#### Report text"
   ]
  },
  {
   "cell_type": "code",
   "execution_count": null,
   "metadata": {},
   "outputs": [],
   "source": [
    "print(x_cols_final)"
   ]
  },
  {
   "cell_type": "markdown",
   "metadata": {},
   "source": [
    "Meegenomen in model:\n",
    "- Historische CMSA data\n",
    "- Covid-19 maatregelen\n",
    "- Feestdagen & vakanties\n",
    "- Weer"
   ]
  },
  {
   "cell_type": "markdown",
   "metadata": {},
   "source": [
    "Verwachte piek Vondelpark (ingang Stadhouderskade): woensdag 18/8 aan het einde van de middag. Drukteniveau acceptabel (groen), richting druk (oranje).\n",
    "\n",
    "Verwachte piek Albert Cuyp: zaterdag 21/8 in het midden van de middag. Drukteniveau acceptabel (groen).\n",
    "\n",
    "Verwachte piek Kalverstraat (t.h.v 1): zaterdag 21/8 in het midden van de middag. Drukteniveau te druk (rood).\n",
    "\n",
    "Verwachte piek Nieuwendijk: zaterdag 21/8 in het midden van de middag. Drukteniveau druk (oranje), bijna te druk (rood).\n"
   ]
  },
  {
   "cell_type": "markdown",
   "metadata": {},
   "source": [
    "#### Look at performance previous prediction"
   ]
  },
  {
   "cell_type": "code",
   "execution_count": null,
   "metadata": {},
   "outputs": [],
   "source": [
    "# Get(summed) prediction data for evaluation\n",
    "df_prev_dw = pd.read_csv('output/prediction_dw_week' + str(my_week - 1) + '.csv')\n",
    "df_prev_we = pd.read_csv('output/prediction_we_week' + str(my_week - 1) + '.csv')\n",
    "df_prev = pd.read_csv('output/prediction_all_week' + str(my_week - 1) + '.csv')"
   ]
  },
  {
   "cell_type": "code",
   "execution_count": null,
   "metadata": {},
   "outputs": [],
   "source": [
    "df_prev_dw.tail(1)"
   ]
  },
  {
   "cell_type": "code",
   "execution_count": null,
   "metadata": {},
   "outputs": [],
   "source": [
    "df_prev_we.tail(1)"
   ]
  },
  {
   "cell_type": "code",
   "execution_count": null,
   "metadata": {},
   "outputs": [],
   "source": [
    "df_actual = df_y_train\n",
    "df_actual['week'] = df_actual.index.isocalendar().week\n",
    "df_actual = df_actual[df_actual['week'] == my_week - 1]\n",
    "df_actual = df_actual.drop(['week'], axis = 1)"
   ]
  },
  {
   "cell_type": "code",
   "execution_count": null,
   "metadata": {},
   "outputs": [],
   "source": [
    "df_static[['objectnummer', 'crowd_threshold_low', 'crowd_threshold_high',]][df_static['objectnummer'].isin(my_locations)]"
   ]
  },
  {
   "cell_type": "code",
   "execution_count": null,
   "metadata": {},
   "outputs": [],
   "source": [
    "df_actual.max()"
   ]
  },
  {
   "cell_type": "code",
   "execution_count": null,
   "metadata": {},
   "outputs": [],
   "source": [
    "df_actual.idxmax(axis = 0)"
   ]
  },
  {
   "cell_type": "markdown",
   "metadata": {},
   "source": [
    "### 10. Backtesting "
   ]
  },
  {
   "cell_type": "markdown",
   "metadata": {},
   "source": [
    "#### Prepare to run model - one week"
   ]
  },
  {
   "cell_type": "code",
   "execution_count": null,
   "metadata": {},
   "outputs": [],
   "source": [
    "start_learnset"
   ]
  },
  {
   "cell_type": "code",
   "execution_count": null,
   "metadata": {},
   "outputs": [],
   "source": [
    "# Look for all Mondays in the dataset\n",
    "weeks = h.find_start_of_weeks(df_y_train)\n",
    "last_week = weeks[-7]\n",
    "print(last_week)"
   ]
  },
  {
   "cell_type": "code",
   "execution_count": null,
   "metadata": {},
   "outputs": [],
   "source": [
    "# Create a training set consisting all the data until that week and a testset containing only that week    \n",
    "df_y_train_bt, df_y_test = h.create_train_and_test_set(df_y_train, last_week, start_learnset)\n",
    "df_X_train_bt, df_X_test = h.create_train_and_test_set(df_X_train, last_week, start_learnset)"
   ]
  },
  {
   "cell_type": "markdown",
   "metadata": {},
   "source": [
    "#### Train & evaluate models - one week"
   ]
  },
  {
   "cell_type": "code",
   "execution_count": null,
   "metadata": {},
   "outputs": [],
   "source": [
    "# Lag\n",
    "df_y_test = pd.merge(df_y_test, lag_df, left_index = True, right_index = True, how = 'left')"
   ]
  },
  {
   "cell_type": "code",
   "execution_count": null,
   "metadata": {},
   "outputs": [],
   "source": [
    "# Linear regression\n",
    "for location in my_locations:\n",
    "    df_y_test = h.train_predict_model_lm(df_y_train_bt, df_X_train_bt, df_y_test, df_X_test, location)"
   ]
  },
  {
   "cell_type": "code",
   "execution_count": null,
   "metadata": {},
   "outputs": [],
   "source": [
    "# XGBoost\n",
    "for location in my_locations:\n",
    "    df_y_test = h.train_predict_model_xg(df_y_train_bt, df_X_train_bt, df_y_test, df_X_test, location)"
   ]
  },
  {
   "cell_type": "markdown",
   "metadata": {},
   "source": [
    "#### Show results - one week"
   ]
  },
  {
   "cell_type": "code",
   "execution_count": null,
   "metadata": {},
   "outputs": [],
   "source": [
    "for location in my_locations:  \n",
    "    df_y_test.plot(y = [location, 'lag_' + location, 'predict_lm_' + location, 'predict_xg_' + location]) "
   ]
  },
  {
   "cell_type": "code",
   "execution_count": null,
   "metadata": {},
   "outputs": [],
   "source": [
    "#df_y_test.plot(y = [location, 'lag_' + location]) "
   ]
  },
  {
   "cell_type": "markdown",
   "metadata": {},
   "source": [
    "#### Importance plot XGB - one week"
   ]
  },
  {
   "cell_type": "code",
   "execution_count": null,
   "metadata": {},
   "outputs": [],
   "source": [
    "#df_y_train_loc = df_y_train[['GAVM-02-Stadhouderskade']]\n",
    "#model = h.train_model_xg(df_X_train, df_y_train_loc)\n",
    "#xgb.plot_importance(model)"
   ]
  },
  {
   "cell_type": "code",
   "execution_count": null,
   "metadata": {},
   "outputs": [],
   "source": [
    "#df_y_train_loc = df_y_train[['GAAM-01-AlbertCuypstraat']]\n",
    "#model = h.train_model_xg(df_X_train, df_y_train_loc)\n",
    "#xgb.plot_importance(model)"
   ]
  },
  {
   "cell_type": "code",
   "execution_count": null,
   "metadata": {},
   "outputs": [],
   "source": [
    "#df_y_train_loc = df_y_train[['CMSA-GAKH-01']]\n",
    "#model = h.train_model_xg(df_X_train, df_y_train_loc)\n",
    "#xgb.plot_importance(model)"
   ]
  },
  {
   "cell_type": "code",
   "execution_count": null,
   "metadata": {},
   "outputs": [],
   "source": [
    "#df_y_train_loc = df_y_train[['GACM-02']]\n",
    "#model = h.train_model_xg(df_X_train, df_y_train_loc)\n",
    "#xgb.plot_importance(model)"
   ]
  },
  {
   "cell_type": "markdown",
   "metadata": {},
   "source": [
    "#### Run models and evaluate - multiple weeks"
   ]
  },
  {
   "cell_type": "code",
   "execution_count": null,
   "metadata": {},
   "outputs": [],
   "source": [
    "#importlib.reload(h)"
   ]
  },
  {
   "cell_type": "code",
   "execution_count": null,
   "metadata": {},
   "outputs": [],
   "source": [
    "#start_learnset = pd.to_datetime('2021-05-01 00:00:00').tz_localize(\"Europe/Amsterdam\")"
   ]
  },
  {
   "cell_type": "code",
   "execution_count": null,
   "metadata": {},
   "outputs": [],
   "source": [
    "#df_y_train = df_y_train[df_y_train.index < '2021-07-08 00:00:00+02:00']"
   ]
  },
  {
   "cell_type": "code",
   "execution_count": null,
   "metadata": {},
   "outputs": [],
   "source": [
    "pred_lag = h.evaluate_n_last_weeks_lag(7, df_y_train, lag_df, start_learnset, my_locations)"
   ]
  },
  {
   "cell_type": "code",
   "execution_count": null,
   "metadata": {},
   "outputs": [],
   "source": [
    "pred_lm = h.train_evaluate_n_last_weeks_lm(7, df_y_train, df_X_train, start_learnset, my_locations)"
   ]
  },
  {
   "cell_type": "code",
   "execution_count": null,
   "metadata": {},
   "outputs": [],
   "source": [
    "pred_xg = h.train_evaluate_n_last_weeks_xg(7, df_y_train, df_X_train, start_learnset, my_locations) "
   ]
  },
  {
   "cell_type": "markdown",
   "metadata": {},
   "source": [
    "#### Visualize results - multiple weeks"
   ]
  },
  {
   "cell_type": "code",
   "execution_count": null,
   "metadata": {},
   "outputs": [],
   "source": [
    "# Prepare dataframe with all results\n",
    "preds = pd.merge(pred_lm, pred_xg, left_index = True, right_index = True, suffixes = (\"\", \"_2\"))\n",
    "preds = pd.merge(preds, pred_lag, left_index = True, right_index = True, suffixes = (\"\", \"_3\"))"
   ]
  },
  {
   "cell_type": "code",
   "execution_count": null,
   "metadata": {},
   "outputs": [],
   "source": [
    "# Add datetime indications\n",
    "preds['date'] = preds.index.date\n",
    "preds['hour'] = preds.index.hour\n",
    "preds['weekday'] = preds.index.weekday\n",
    "preds['week'] = preds.index.isocalendar().week"
   ]
  },
  {
   "cell_type": "code",
   "execution_count": null,
   "metadata": {},
   "outputs": [],
   "source": [
    "# Create aggregates\n",
    "pred_d = preds.groupby('date').sum()\n",
    "pred_h = preds.groupby('hour').mean()\n",
    "pred_dh = preds.groupby(['weekday', 'hour']).mean()\n",
    "pred_w = preds.groupby('week').mean()\n",
    "pred_wd = preds.groupby('weekday').mean()"
   ]
  },
  {
   "cell_type": "markdown",
   "metadata": {},
   "source": [
    "##### error per day - total"
   ]
  },
  {
   "cell_type": "code",
   "execution_count": null,
   "metadata": {},
   "outputs": [],
   "source": [
    "stats = []\n",
    "for location in my_locations:\n",
    "    stats.append(h.evaluate(pred_d['lag_' + location], pred_d[location], print_metrics=False))\n",
    "rmse, rmse_busy = zip(*stats)\n",
    "print(f\"(Mean/std) Root mean squared error: {np.mean(rmse).round()}/{np.std(rmse).round()}\")\n",
    "print(f\"(Mean/std) Root mean squared error (crowded): {np.mean(rmse_busy).round()}/{np.std(rmse_busy).round()}\")"
   ]
  },
  {
   "cell_type": "code",
   "execution_count": null,
   "metadata": {},
   "outputs": [],
   "source": [
    "stats = []\n",
    "for location in my_locations:\n",
    "    stats.append(h.evaluate(pred_d['predict_lm_' + location], pred_d[location], print_metrics=False))\n",
    "    \n",
    "rmse, rmse_busy = zip(*stats)\n",
    "print(f\"(Mean/std) Root mean squared error: {np.mean(rmse).round()}/{np.std(rmse).round()}\")\n",
    "print(f\"(Mean/std) Root mean squared error (crowded): {np.mean(rmse_busy).round()}/{np.std(rmse_busy).round()}\")"
   ]
  },
  {
   "cell_type": "code",
   "execution_count": null,
   "metadata": {},
   "outputs": [],
   "source": [
    "stats = []\n",
    "for location in my_locations:\n",
    "    stats.append(h.evaluate(pred_d['predict_xg_' + location], pred_d[location], print_metrics=False))\n",
    "    \n",
    "rmse, rmse_busy = zip(*stats)\n",
    "print(f\"(Mean/std) Root mean squared error: {np.mean(rmse).round()}/{np.std(rmse).round()}\")\n",
    "print(f\"(Mean/std) Root mean squared error (crowded): {np.mean(rmse_busy).round()}/{np.std(rmse_busy).round()}\")"
   ]
  },
  {
   "cell_type": "markdown",
   "metadata": {},
   "source": [
    "##### error per day - per location"
   ]
  },
  {
   "cell_type": "code",
   "execution_count": null,
   "metadata": {},
   "outputs": [],
   "source": [
    "for location in my_locations:\n",
    "    print(location)\n",
    "    h.evaluate(pred_d['lag_' + location], pred_d[location], print_metrics=True)"
   ]
  },
  {
   "cell_type": "code",
   "execution_count": null,
   "metadata": {},
   "outputs": [],
   "source": [
    "for location in my_locations:\n",
    "    print(location)\n",
    "    h.evaluate(pred_d['predict_lm_' + location], pred_d[location], print_metrics=True)"
   ]
  },
  {
   "cell_type": "code",
   "execution_count": null,
   "metadata": {},
   "outputs": [],
   "source": [
    "for location in my_locations:\n",
    "    print(location)\n",
    "    h.evaluate(pred_d['predict_xg_' + location], pred_d[location], print_metrics=True)"
   ]
  },
  {
   "cell_type": "code",
   "execution_count": null,
   "metadata": {},
   "outputs": [],
   "source": [
    "for location in my_locations:\n",
    "    pred_d.plot(y = [location, 'predict_lm_' + location, 'predict_xg_' + location, 'lag_' + location])\n",
    "    plt.legend(bbox_to_anchor=(1.05,1))"
   ]
  },
  {
   "cell_type": "markdown",
   "metadata": {},
   "source": [
    "##### per day of the week"
   ]
  },
  {
   "cell_type": "code",
   "execution_count": null,
   "metadata": {},
   "outputs": [],
   "source": [
    "for location in my_locations:\n",
    "    pred_wd.plot(y = [location, 'predict_lm_' + location, 'predict_xg_' + location, 'lag_' + location])\n",
    "    plt.legend(bbox_to_anchor=(1.05,1))"
   ]
  },
  {
   "cell_type": "markdown",
   "metadata": {},
   "source": [
    "##### total per week"
   ]
  },
  {
   "cell_type": "code",
   "execution_count": null,
   "metadata": {},
   "outputs": [],
   "source": [
    "for location in my_locations:\n",
    "    pred_w.plot.bar(y = [location, 'predict_lm_' + location, 'predict_xg_' + location, 'lag_' + location], rot = 0)\n",
    "    plt.legend(bbox_to_anchor=(1.05,1))"
   ]
  },
  {
   "cell_type": "markdown",
   "metadata": {},
   "source": [
    "##### one specific week"
   ]
  },
  {
   "cell_type": "code",
   "execution_count": null,
   "metadata": {},
   "outputs": [],
   "source": [
    "my_week = 24"
   ]
  },
  {
   "cell_type": "code",
   "execution_count": null,
   "metadata": {},
   "outputs": [],
   "source": [
    "for location in my_locations:\n",
    "    preds[preds['week'] == my_week].plot(y = [location, 'predict_lm_' + location, 'predict_xg_' + location])\n",
    "    plt.legend(bbox_to_anchor=(1.05,1))"
   ]
  },
  {
   "cell_type": "markdown",
   "metadata": {},
   "source": [
    "##### total per hour of the week"
   ]
  },
  {
   "cell_type": "code",
   "execution_count": null,
   "metadata": {},
   "outputs": [],
   "source": [
    "for location in my_locations:\n",
    "    pred_dh.plot(y = [location, 'predict_lm_' + location, 'predict_xg_' + location])\n",
    "    plt.legend(bbox_to_anchor=(1.05,1))"
   ]
  },
  {
   "cell_type": "markdown",
   "metadata": {},
   "source": [
    "##### total per hour of the day"
   ]
  },
  {
   "cell_type": "code",
   "execution_count": null,
   "metadata": {},
   "outputs": [],
   "source": [
    "for location in my_locations:\n",
    "    pred_h.plot(y = [location, 'predict_lm_' + location, 'predict_xg_' + location])\n",
    "    plt.legend(bbox_to_anchor=(1.05,1))"
   ]
  },
  {
   "cell_type": "markdown",
   "metadata": {},
   "source": [
    "#### Max values - multiple weeks"
   ]
  },
  {
   "cell_type": "markdown",
   "metadata": {},
   "source": [
    "##### max values stadhouderskade"
   ]
  },
  {
   "cell_type": "code",
   "execution_count": null,
   "metadata": {},
   "outputs": [],
   "source": [
    "location = 'GAVM-02-Stadhouderskade'"
   ]
  },
  {
   "cell_type": "code",
   "execution_count": null,
   "metadata": {},
   "outputs": [],
   "source": [
    "preds.groupby(['week'])[location, 'lag_' + location, 'predict_lm_' + location, 'predict_xg_' + location].max()"
   ]
  },
  {
   "cell_type": "markdown",
   "metadata": {},
   "source": [
    "##### max value moments stadhouderskade"
   ]
  },
  {
   "cell_type": "code",
   "execution_count": null,
   "metadata": {},
   "outputs": [],
   "source": [
    "preds.groupby(['week'])[location, 'lag_' + location, 'predict_lm_' + location, 'predict_xg_' + location].idxmax()"
   ]
  },
  {
   "cell_type": "markdown",
   "metadata": {},
   "source": [
    "##### max values albert cuyp"
   ]
  },
  {
   "cell_type": "code",
   "execution_count": null,
   "metadata": {},
   "outputs": [],
   "source": [
    "location = 'GAAM-01-AlbertCuypstraat'"
   ]
  },
  {
   "cell_type": "code",
   "execution_count": null,
   "metadata": {},
   "outputs": [],
   "source": [
    "preds.groupby(['week'])[location, 'lag_' + location, 'predict_lm_' + location, 'predict_xg_' + location].max()"
   ]
  },
  {
   "cell_type": "markdown",
   "metadata": {},
   "source": [
    "##### max value moments albert cuyp"
   ]
  },
  {
   "cell_type": "code",
   "execution_count": null,
   "metadata": {},
   "outputs": [],
   "source": [
    "preds.groupby(['week'])[location, 'lag_' + location, 'predict_lm_' + location, 'predict_xg_' + location].idxmax()"
   ]
  },
  {
   "cell_type": "code",
   "execution_count": null,
   "metadata": {},
   "outputs": [],
   "source": [
    "##### max values kalverstraat\n",
    "location = 'CMSA-GAKH-01'\n",
    "preds.groupby(['week'])[location, 'lag_' + location, 'predict_lm_' + location, 'predict_xg_' + location].max()"
   ]
  },
  {
   "cell_type": "code",
   "execution_count": null,
   "metadata": {},
   "outputs": [],
   "source": [
    "##### max values moments kalverstraat\n",
    "preds.groupby(['week'])[location, 'lag_' + location, 'predict_lm_' + location, 'predict_xg_' + location].idxmax()"
   ]
  },
  {
   "cell_type": "code",
   "execution_count": null,
   "metadata": {},
   "outputs": [],
   "source": [
    "##### max values nieuwendijk\n",
    "location = 'GACM-02'\n",
    "preds.groupby(['week'])[location, 'lag_' + location, 'predict_lm_' + location, 'predict_xg_' + location].max()"
   ]
  },
  {
   "cell_type": "code",
   "execution_count": null,
   "metadata": {},
   "outputs": [],
   "source": [
    "##### max values moments niewendijk\n",
    "preds.groupby(['week'])[location, 'lag_' + location, 'predict_lm_' + location, 'predict_xg_' + location].idxmax()"
   ]
  }
 ],
 "metadata": {
  "kernelspec": {
   "display_name": "Python 3 (ipykernel)",
   "language": "python",
   "name": "python3"
  },
  "language_info": {
   "codemirror_mode": {
    "name": "ipython",
    "version": 3
   },
   "file_extension": ".py",
   "mimetype": "text/x-python",
   "name": "python",
   "nbconvert_exporter": "python",
   "pygments_lexer": "ipython3",
   "version": "3.9.6"
  }
 },
 "nbformat": 4,
 "nbformat_minor": 4
}